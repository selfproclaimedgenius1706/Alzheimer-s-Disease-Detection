{
  "cells": [
    {
      "cell_type": "markdown",
      "metadata": {
        "id": "view-in-github",
        "colab_type": "text"
      },
      "source": [
        "<a href=\"https://colab.research.google.com/github/selfproclaimedgenius1706/Alzheimer-s-Disease-Detection/blob/main/distilBert.ipynb\" target=\"_parent\"><img src=\"https://colab.research.google.com/assets/colab-badge.svg\" alt=\"Open In Colab\"/></a>"
      ]
    },
    {
      "cell_type": "code",
      "execution_count": null,
      "metadata": {
        "id": "KFtt7-RTJifo"
      },
      "outputs": [],
      "source": [
        "import pandas as pd\n",
        "import torch"
      ]
    },
    {
      "cell_type": "code",
      "execution_count": null,
      "metadata": {
        "id": "bDq95if5Kdz8"
      },
      "outputs": [],
      "source": [
        "%%capture\n",
        "!python3 -m venv venv\n",
        "!source venv/bin/activate\n",
        "!pip install tensorflow transformers\n"
      ]
    },
    {
      "cell_type": "code",
      "execution_count": null,
      "metadata": {
        "id": "4c72eekMKgCb"
      },
      "outputs": [],
      "source": [
        "import tensorflow as tf\n",
        "from tensorflow.keras import activations, optimizers, losses\n",
        "\n",
        "#Maybe I should not use the TFDistillBertForSequenceClassification\n",
        "from transformers import DistilBertTokenizer, TFDistilBertForSequenceClassification\n",
        "\n",
        "import pickle\n"
      ]
    },
    {
      "cell_type": "markdown",
      "metadata": {
        "id": "pWX8XJAcZuox"
      },
      "source": [
        "# TOKENIZATION !!!"
      ]
    },
    {
      "cell_type": "code",
      "execution_count": null,
      "metadata": {
        "id": "W7i4v4PvJ7KB"
      },
      "outputs": [],
      "source": [
        "df = pd.read_csv('dataToPadding.csv')\n",
        "df = df[~df['Seri'].isin(['s004','s007','s024', 's096','s084','s085'])]"
      ]
    },
    {
      "cell_type": "code",
      "execution_count": null,
      "metadata": {
        "id": "hQG19KfqKO0F"
      },
      "outputs": [],
      "source": [
        "#Tokenization !!!\n",
        "def construct_encodings(data, tokenizer, max_len, truncation=True, padding=True):\n",
        "    encodings = tokenizer(data, max_length=max_len, truncation=truncation, padding=padding)\n",
        "\n",
        "    #Alert if any sample > max len\n",
        "    for idx, input_ids in enumerate(encodings['input_ids']):\n",
        "        if len(input_ids) > max_len:\n",
        "            print(f\"Warning: Sequence at index {idx} is longer than {max_len} tokens.\")\n",
        "\n",
        "    return encodings\n",
        "\n"
      ]
    },
    {
      "cell_type": "code",
      "execution_count": null,
      "metadata": {
        "id": "JEF9wIZ2L22a",
        "colab": {
          "base_uri": "https://localhost:8080/",
          "height": 145,
          "referenced_widgets": [
            "31f8df269186498e991fb0a738b00f7b",
            "783b36c61bb849b580d843f3c252b420",
            "0fdd240b6ef249df916b2b463b03a7d6",
            "765c6a81f1a848e1bc555d4fcad0d613",
            "95f60650f5434e0f8aa0f43d46e9d86d",
            "a7bc5081bb134db1b3626c0989c41535",
            "7d7664b5f2fe46ee8100846d65dc5c37",
            "f27775d76a1f42e6bf63cb46c0be8d0b",
            "47e013a4202644689749e5168912cc22",
            "d3dec53a22e54068946c6808a3c61a6b",
            "f43a6db4429948e79521a20639685281",
            "7f2abdd3bbb94799b138279d40dff77d",
            "06858df897d54dcdac6cc212a384c7ef",
            "4f6cace62cbe4c67961fd3a2293da769",
            "ba0f418b31524ea8a7421b002f3f7694",
            "306f735ed81f4943bd53e06e4d004147",
            "71894d9d059443dab60370dc2fdfd82c",
            "38a4b8b3f70a4d649dec5b0c32940bc0",
            "c459179355d64d8b89c2ee8a88b01e37",
            "49f3dc75c2534d23b0d3b88dc01860f1",
            "d7c940e45be04829b48fa9256607eb1e",
            "3d0852511ba94f1b9343b596ce4666c1",
            "d4da6548a7044511b4b7d350e794dfc7",
            "48f940a01a6c4b95b25b3045fcd73150",
            "0c9b952c036b40b69bd70ddf0b013592",
            "88c554cca6154b20984424d7d76ccf9f",
            "890a1ddb09b048b6977a15c26d112e6d",
            "24d4bfdfbd9b4a6d835fed3cc24cb9c0",
            "89d57f512e4c426ab8f1ab3b747990d8",
            "f6349620ee1e45518ec369dfa07e8b11",
            "b75e2fcd4c4b413da056bfd69d177320",
            "9a8767fe6afb479cbfd9dfaf02788a29",
            "5c3b554b6e914e53a049db702fea1ed0",
            "5effef35110646d7a40f3c992564b256",
            "16c8877a89a24fc9baea33c4b6f99228",
            "033f0c74bb1c4af2a0f317ab89299463",
            "cc0b189ef9c143459c3ab66a7a2a4fd0",
            "f254fe8d8fce495f83570d7d3b15d192",
            "7cd4ae4722b74b00a241e9c27b418ad7",
            "899d59c0c2de4e889e5d9695dff4cab6",
            "63a505fa9ec94e98874d492abd7fa05c",
            "47e9d27379974cb79e48762a5867ad9f",
            "c6ef006a227d42e8b98bc9e31639b6a4",
            "b815f64efec940029fa5934422d68471"
          ]
        },
        "outputId": "16378feb-3616-4dff-99c4-7b129723db55"
      },
      "outputs": [
        {
          "output_type": "display_data",
          "data": {
            "text/plain": [
              "Downloading (…)okenizer_config.json:   0%|          | 0.00/28.0 [00:00<?, ?B/s]"
            ],
            "application/vnd.jupyter.widget-view+json": {
              "version_major": 2,
              "version_minor": 0,
              "model_id": "31f8df269186498e991fb0a738b00f7b"
            }
          },
          "metadata": {}
        },
        {
          "output_type": "display_data",
          "data": {
            "text/plain": [
              "Downloading (…)solve/main/vocab.txt:   0%|          | 0.00/232k [00:00<?, ?B/s]"
            ],
            "application/vnd.jupyter.widget-view+json": {
              "version_major": 2,
              "version_minor": 0,
              "model_id": "7f2abdd3bbb94799b138279d40dff77d"
            }
          },
          "metadata": {}
        },
        {
          "output_type": "display_data",
          "data": {
            "text/plain": [
              "Downloading (…)/main/tokenizer.json:   0%|          | 0.00/466k [00:00<?, ?B/s]"
            ],
            "application/vnd.jupyter.widget-view+json": {
              "version_major": 2,
              "version_minor": 0,
              "model_id": "d4da6548a7044511b4b7d350e794dfc7"
            }
          },
          "metadata": {}
        },
        {
          "output_type": "display_data",
          "data": {
            "text/plain": [
              "Downloading (…)lve/main/config.json:   0%|          | 0.00/483 [00:00<?, ?B/s]"
            ],
            "application/vnd.jupyter.widget-view+json": {
              "version_major": 2,
              "version_minor": 0,
              "model_id": "5effef35110646d7a40f3c992564b256"
            }
          },
          "metadata": {}
        }
      ],
      "source": [
        "#Chia x(feature),y(label)\n",
        "x = df['PreprocessedContent'].tolist()\n",
        "y  = df['Label'].tolist()\n",
        "\n",
        "#load model\n",
        "MODEL_NAME = 'distilbert-base-uncased'\n",
        "tkzr = DistilBertTokenizer.from_pretrained(MODEL_NAME)\n",
        "\n",
        "#Tokenize\n",
        "encodings = construct_encodings(x, tokenizer = tkzr, max_len=40)\n"
      ]
    },
    {
      "cell_type": "code",
      "execution_count": null,
      "metadata": {
        "colab": {
          "base_uri": "https://localhost:8080/"
        },
        "id": "VAs5fpD-MN1t",
        "outputId": "7be21ec3-d153-4c97-afe9-08b9187696d9"
      },
      "outputs": [
        {
          "output_type": "stream",
          "name": "stdout",
          "text": [
            "Input IDs: tf.Tensor(\n",
            "[  101  2092  2045  2015  1037  2388  3061  2045  7910  7910 12699  1996\n",
            " 10447  1998  7910  1996  3645  2330  1998  2648  1996  3332  2045  2015\n",
            "  1037  3328  2007  1037  1039  9203  3328  1998  2017  2064  2156  2178\n",
            "  7910  7910  2311   102], shape=(40,), dtype=int32)\n",
            "Attention Mask: tf.Tensor(\n",
            "[1 1 1 1 1 1 1 1 1 1 1 1 1 1 1 1 1 1 1 1 1 1 1 1 1 1 1 1 1 1 1 1 1 1 1 1 1\n",
            " 1 1 1], shape=(40,), dtype=int32)\n",
            "==================================================\n",
            "Input IDs: tf.Tensor(\n",
            "[  101  8307  2015  2893 16324  2041 11253  1996 17387 15723  3061  2006\n",
            "  1037  1996 14708  2015  6069  5955  2058  1998  1996  3057  3038 14021\n",
            "  2232  2123  2102  2292  8307  2963  1998  1996 10756 17462 10447  1996\n",
            "  5380  2770  2041   102], shape=(40,), dtype=int32)\n",
            "Attention Mask: tf.Tensor(\n",
            "[1 1 1 1 1 1 1 1 1 1 1 1 1 1 1 1 1 1 1 1 1 1 1 1 1 1 1 1 1 1 1 1 1 1 1 1 1\n",
            " 1 1 1], shape=(40,), dtype=int32)\n",
            "==================================================\n",
            "Input IDs: tf.Tensor(\n",
            "[  101  3100  2045  2015  1037  2210  2879  1998  2002  2015  2893  2002\n",
            "  2015  3061  2006  1037  1998  2002  2015  2893  1037 17387  1998  2002\n",
            "  2015  6631  1037 17387  2007  1996  2210  2006  1996  1047  2054  2024\n",
            "  2054  2024  1996   102], shape=(40,), dtype=int32)\n",
            "Attention Mask: tf.Tensor(\n",
            "[1 1 1 1 1 1 1 1 1 1 1 1 1 1 1 1 1 1 1 1 1 1 1 1 1 1 1 1 1 1 1 1 1 1 1 1 1\n",
            " 1 1 1], shape=(40,), dtype=int32)\n",
            "==================================================\n",
            "Input IDs: tf.Tensor(\n",
            "[  101  3100  2116  9841  2030  1996 10756 12699  1996 10447  1998  1996\n",
            "  7752  2016  2038  2070  1997  2068  7910  9550  2525  2006  1996  2217\n",
            "  2004  2016  2015  2559  8529  2045  2015  2300  2035  2058  1996  2723\n",
            "  7910  2045  2015   102], shape=(40,), dtype=int32)\n",
            "Attention Mask: tf.Tensor(\n",
            "[1 1 1 1 1 1 1 1 1 1 1 1 1 1 1 1 1 1 1 1 1 1 1 1 1 1 1 1 1 1 1 1 1 1 1 1 1\n",
            " 1 1 1], shape=(40,), dtype=int32)\n",
            "==================================================\n",
            "Input IDs: tf.Tensor(\n",
            "[  101  3100  2388  2003 17462  1996 10447  2021  1996  2300  2003  2183\n",
            "  2041  2058  1996  6289  2049  1037  3492  2154  2648  7167  1997  4870\n",
            " 13250  2045  2024  2093 10447  2187  2000  9378  4318  1045  3984  2016\n",
            "  2015  3061  1999   102], shape=(40,), dtype=int32)\n",
            "Attention Mask: tf.Tensor(\n",
            "[1 1 1 1 1 1 1 1 1 1 1 1 1 1 1 1 1 1 1 1 1 1 1 1 1 1 1 1 1 1 1 1 1 1 1 1 1\n",
            " 1 1 1], shape=(40,), dtype=int32)\n",
            "==================================================\n",
            "Input IDs: tf.Tensor(\n",
            "[  101  1037  2879  2003  2635  7910 16324  2013  1996 17387 15723  3228\n",
            "  2028  2000  2010  2002  2015  2036  4634  2125  1996 14708  2002  2003\n",
            "  2006  1996  2388  2003 12699 10447  2016  2015  5599  1996  7752  2058\n",
            " 12314  2049  2893   102], shape=(40,), dtype=int32)\n",
            "Attention Mask: tf.Tensor(\n",
            "[1 1 1 1 1 1 1 1 1 1 1 1 1 1 1 1 1 1 1 1 1 1 1 1 1 1 1 1 1 1 1 1 1 1 1 1 1\n",
            " 1 1 1], shape=(40,), dtype=int32)\n",
            "==================================================\n",
            "Input IDs: tf.Tensor(\n",
            "[  101 16324 13250 17387 15723 13250  2330  9346 13250 14694 13250  2821\n",
            "  1996  2210  3337  4285  2005  1996 16324  1998  1996 14708  2015  2016\n",
            "  2015  5870  1045  2228 23701  3403  2005  1037 17387  1996 10756 17462\n",
            " 10447  1996  5380   102], shape=(40,), dtype=int32)\n",
            "Attention Mask: tf.Tensor(\n",
            "[1 1 1 1 1 1 1 1 1 1 1 1 1 1 1 1 1 1 1 1 1 1 1 1 1 1 1 1 1 1 1 1 1 1 1 1 1\n",
            " 1 1 1], shape=(40,), dtype=int32)\n",
            "==================================================\n",
            "Input IDs: tf.Tensor(\n",
            "[  101  3100  7910  1996  2388  2003 14612  1037  9841  2012  1996  7752\n",
            "  8529  1996  2300  2003  2058 12314  2075  2013  1996  7752  1037  2402\n",
            " 15608  2055  2000  2991  2125  1037 14708  4285  2005  1037 17387 15723\n",
            "  1998  1996  2210   102], shape=(40,), dtype=int32)\n",
            "Attention Mask: tf.Tensor(\n",
            "[1 1 1 1 1 1 1 1 1 1 1 1 1 1 1 1 1 1 1 1 1 1 1 1 1 1 1 1 1 1 1 1 1 1 1 1 1\n",
            " 1 1 1], shape=(40,), dtype=int32)\n",
            "==================================================\n",
            "Input IDs: tf.Tensor(\n",
            "[  101  3100  7910  3507  4634  2125  1037 14708 13250  2036  2635 16324\n",
            "  2013  1996 25337 13250  7910  2905  3061 13250 21059  2192 13250  2821\n",
            "  3100  2300  2770  2041 11253  1996  7752 13250  7910  2450 17462  9841\n",
            " 13250  7910  1996   102], shape=(40,), dtype=int32)\n",
            "Attention Mask: tf.Tensor(\n",
            "[1 1 1 1 1 1 1 1 1 1 1 1 1 1 1 1 1 1 1 1 1 1 1 1 1 1 1 1 1 1 1 1 1 1 1 1 1\n",
            " 1 1 1], shape=(40,), dtype=int32)\n",
            "==================================================\n",
            "Input IDs: tf.Tensor(\n",
            "[  101  2035  1997  1996  2895  2017  2156  2183  2006  3100  2023  2003\n",
            "  1999  1996  3829  1998  1996  2210  2879  2003  8218  2039  2000  1996\n",
            " 17387 15723  1998  2002  2015  1996  2388  2038  2014  2067  2357  2016\n",
            "  2015  3061  2012   102], shape=(40,), dtype=int32)\n",
            "Attention Mask: tf.Tensor(\n",
            "[1 1 1 1 1 1 1 1 1 1 1 1 1 1 1 1 1 1 1 1 1 1 1 1 1 1 1 1 1 1 1 1 1 1 1 1 1\n",
            " 1 1 1], shape=(40,), dtype=int32)\n",
            "==================================================\n",
            "Input IDs: tf.Tensor(\n",
            "[  101  2092  1996  2611  2003  3666  1996  2879  2175  2046  1996 17387\n",
            " 15723  2002  2038  1037 17387  1999  2010  2192  2002  2015  2006  1996\n",
            " 14708  1996 14708  2003 14708  2003  4634  1996  2388  2003 17462 10447\n",
            "  2038  1037  5127   102], shape=(40,), dtype=int32)\n",
            "Attention Mask: tf.Tensor(\n",
            "[1 1 1 1 1 1 1 1 1 1 1 1 1 1 1 1 1 1 1 1 1 1 1 1 1 1 1 1 1 1 1 1 1 1 1 1 1\n",
            " 1 1 1], shape=(40,), dtype=int32)\n",
            "==================================================\n",
            "Input IDs: tf.Tensor(\n",
            "[  101  2092  1045  2156  1996  2388  2725  1996 10447  1996  7752  1996\n",
            "  2300  2770  2058  1999  1996  7752 13250  1996  3337  2635 16324  2013\n",
            "  1996 17387 15723  1998  2002  1048  1996  8529  1998  1996 14708  2015\n",
            "  4634  3398  2008   102], shape=(40,), dtype=int32)\n",
            "Attention Mask: tf.Tensor(\n",
            "[1 1 1 1 1 1 1 1 1 1 1 1 1 1 1 1 1 1 1 1 1 1 1 1 1 1 1 1 1 1 1 1 1 1 1 1 1\n",
            " 1 1 1], shape=(40,), dtype=int32)\n",
            "==================================================\n",
            "Input IDs: tf.Tensor(\n",
            "[  101  2035  1997  1996  2895  7910  2074  2175  3805  1998  2425  2017\n",
            "  1996  2388  2003 17462  1037  5127  1998  1996  5380  7752  2003 18856\n",
            "  8649  5999  1998  2045  2015  2062  2300  2183  1998  1996  1055  1996\n",
            "  3337  4634  2125   102], shape=(40,), dtype=int32)\n",
            "Attention Mask: tf.Tensor(\n",
            "[1 1 1 1 1 1 1 1 1 1 1 1 1 1 1 1 1 1 1 1 1 1 1 1 1 1 1 1 1 1 1 1 1 1 1 1 1\n",
            " 1 1 1], shape=(40,), dtype=int32)\n",
            "==================================================\n",
            "Input IDs: tf.Tensor(\n",
            "[  101  3100  2092  1996  2388  2003 17462  1996 10447  1996  7752  2003\n",
            "  2058 12314  2075  8529  1996  2210  3057  4285  2005  1037 17387  1998\n",
            "  2014  3428  2635 16324  2041 11253  1996 17387 15723  1998  1996 14708\n",
            "  2003  2183  2000   102], shape=(40,), dtype=int32)\n",
            "Attention Mask: tf.Tensor(\n",
            "[1 1 1 1 1 1 1 1 1 1 1 1 1 1 1 1 1 1 1 1 1 1 1 1 1 1 1 1 1 1 1 1 1 1 1 1 1\n",
            " 1 1 1], shape=(40,), dtype=int32)\n",
            "==================================================\n",
            "Input IDs: tf.Tensor(\n",
            "[  101  3337  4634  2125  1037 14708 13250  1996 11876  2003  4634  2125\n",
            "  1037 17387 15723  2002  2015  9775  1037 17387  1999  2010  2192  1996\n",
            "  2611  2003  4285  2039  2016  2015  7244  2014  4451 22038  2595  1996\n",
            "  2060  2217  1996   102], shape=(40,), dtype=int32)\n",
            "Attention Mask: tf.Tensor(\n",
            "[1 1 1 1 1 1 1 1 1 1 1 1 1 1 1 1 1 1 1 1 1 1 1 1 1 1 1 1 1 1 1 1 1 1 1 1 1\n",
            " 1 1 1], shape=(40,), dtype=int32)\n",
            "==================================================\n",
            "Input IDs: tf.Tensor(\n",
            "[  101  8529  1996  2879  2003  2635  7910 16324  7910  1996  2611  2003\n",
            "  2003  3038  4251  2002  2015  2002  2015  1996  2879  2003  4634  2125\n",
            "  1996 14708  7910  1996  2388  2003 17462 10447  1996  2300  2003  2770\n",
            "  2058  1996  7752   102], shape=(40,), dtype=int32)\n",
            "Attention Mask: tf.Tensor(\n",
            "[1 1 1 1 1 1 1 1 1 1 1 1 1 1 1 1 1 1 1 1 1 1 1 1 1 1 1 1 1 1 1 1 1 1 1 1 1\n",
            " 1 1 1], shape=(40,), dtype=int32)\n",
            "==================================================\n",
            "Input IDs: tf.Tensor(\n",
            "[  101  3100  2300  2770  2041 11253  1996  7752 13250  3203 17462  1037\n",
            "  5127 13250  1998  1037  2775  2893 16324  2041 11253  1996 17387 15723\n",
            "  3061  2006  1037  1998  1037  2210  2611  4285  2039  2005  1037 17387\n",
            " 13250  1998  8529   102], shape=(40,), dtype=int32)\n",
            "Attention Mask: tf.Tensor(\n",
            "[1 1 1 1 1 1 1 1 1 1 1 1 1 1 1 1 1 1 1 1 1 1 1 1 1 1 1 1 1 1 1 1 1 1 1 1 1\n",
            " 1 1 1], shape=(40,), dtype=int32)\n",
            "==================================================\n",
            "Input IDs: tf.Tensor(\n",
            "[  101  2298  2012  1996  3861 22038  2595  2821  3100  2028  1997  1996\n",
            "  1996  2879  2003  2006  1996 14708  2893 16324  2013  1996  7910  1996\n",
            "  2388  2003 17462  1996 10447  2004  1996  7752  6904 18796  2102  2038\n",
            "  3561  7910  2008   102], shape=(40,), dtype=int32)\n",
            "Attention Mask: tf.Tensor(\n",
            "[1 1 1 1 1 1 1 1 1 1 1 1 1 1 1 1 1 1 1 1 1 1 1 1 1 1 1 1 1 1 1 1 1 1 1 1 1\n",
            " 1 1 1], shape=(40,), dtype=int32)\n",
            "==================================================\n",
            "Input IDs: tf.Tensor(\n",
            "[  101 12699 12699 10447  2030 14612 10447 13250  1996  5380  2770  2058\n",
            "  1996  7752  1996  4845  2003 11065  1996 16324  7910  2002  2015  4634\n",
            "  2058  2006  1996 14708  1996  3612  2003 11221  2648  1996  3332  7910\n",
            "  1996  2611  2003   102], shape=(40,), dtype=int32)\n",
            "Attention Mask: tf.Tensor(\n",
            "[1 1 1 1 1 1 1 1 1 1 1 1 1 1 1 1 1 1 1 1 1 1 1 1 1 1 1 1 1 1 1 1 1 1 1 1 1\n",
            " 1 1 1], shape=(40,), dtype=int32)\n",
            "==================================================\n",
            "Input IDs: tf.Tensor(\n",
            "[  101  2895 10303  1037  3203  2015 17462 10447  1996  2879  2003  2001\n",
            "  3061  2006  1037 14708  2021  1996  2895  2003  2008  1996  1998  1996\n",
            "  2611  2038  2014  2192  2992  7910  4285  2005  1037 17387  1998  2045\n",
            "  2015  2632 11439   102], shape=(40,), dtype=int32)\n",
            "Attention Mask: tf.Tensor(\n",
            "[1 1 1 1 1 1 1 1 1 1 1 1 1 1 1 1 1 1 1 1 1 1 1 1 1 1 1 1 1 1 1 1 1 1 1 1 1\n",
            " 1 1 1], shape=(40,), dtype=int32)\n",
            "==================================================\n"
          ]
        }
      ],
      "source": [
        "# Access the input_ids and attention_mask (để check thử coi shape tụi nó ra sao)\n",
        "for i in range(20):\n",
        "  input_ids = encodings['input_ids'][i]\n",
        "  attention_mask = encodings['attention_mask'][i]\n",
        "  input_ids = tf.convert_to_tensor(input_ids)\n",
        "  attention_mask = tf.convert_to_tensor(attention_mask)\n",
        "\n",
        "  print(\"Input IDs:\", input_ids)\n",
        "  print(\"Attention Mask:\", attention_mask)\n",
        "  print(\"=\"*50)"
      ]
    },
    {
      "cell_type": "code",
      "execution_count": null,
      "metadata": {
        "id": "MR9_tEnPUlYL"
      },
      "outputs": [],
      "source": [
        "#Ghép x và y lại dataset để train/test\n",
        "def construct_tfdataset(encodings, y=None):\n",
        "    if y:\n",
        "        return tf.data.Dataset.from_tensor_slices((dict(encodings),y))\n",
        "    else:\n",
        "        # this case is used when making predictions on unseen samples after training\n",
        "        return tf.data.Dataset.from_tensor_slices(dict(encodings))\n",
        "\n",
        "tfdataset = construct_tfdataset(encodings, y)\n"
      ]
    },
    {
      "cell_type": "markdown",
      "metadata": {
        "id": "Q1967K9-7_Xc"
      },
      "source": [
        "## APPROACH 1 : USING HIGH-LEVEL API TO TRAIN + SPLIT 7-3 (TRAIN-TEST)"
      ]
    },
    {
      "cell_type": "code",
      "execution_count": null,
      "metadata": {
        "id": "VoaUDj02Us4A"
      },
      "outputs": [],
      "source": [
        "#70% for train, 30% for test\n",
        "TEST_SPLIT = 0.3\n",
        "train_size = int(len(x) * (1-TEST_SPLIT))\n",
        "\n",
        "#Set batch size\n",
        "BATCH_SIZE = 2\n",
        "\n",
        "#shuffle lên\n",
        "tfdataset = tfdataset.shuffle(len(x))\n",
        "\n",
        "tfdataset_train = tfdataset.take(train_size)\n",
        "tfdataset_train = tfdataset_train.batch(BATCH_SIZE)\n",
        "\n",
        "tfdataset_test = tfdataset.skip(train_size)\n",
        "tfdataset_test = tfdataset_test.batch(BATCH_SIZE)"
      ]
    },
    {
      "cell_type": "code",
      "execution_count": null,
      "metadata": {
        "id": "zU9t5rB0eBRM"
      },
      "outputs": [],
      "source": [
        "from sklearn.model_selection import KFold\n",
        "from tensorflow.keras.optimizers import Adam\n",
        "import numpy as np\n"
      ]
    },
    {
      "cell_type": "code",
      "execution_count": null,
      "metadata": {
        "colab": {
          "base_uri": "https://localhost:8080/"
        },
        "id": "SPDIzYhlW77i",
        "outputId": "ad31b627-75a8-4e1f-9b54-992599c5a630"
      },
      "outputs": [
        {
          "output_type": "stream",
          "name": "stderr",
          "text": [
            "Some weights of the PyTorch model were not used when initializing the TF 2.0 model TFDistilBertForSequenceClassification: ['vocab_transform.weight', 'vocab_layer_norm.bias', 'vocab_projector.bias', 'vocab_layer_norm.weight', 'vocab_transform.bias']\n",
            "- This IS expected if you are initializing TFDistilBertForSequenceClassification from a PyTorch model trained on another task or with another architecture (e.g. initializing a TFBertForSequenceClassification model from a BertForPreTraining model).\n",
            "- This IS NOT expected if you are initializing TFDistilBertForSequenceClassification from a PyTorch model that you expect to be exactly identical (e.g. initializing a TFBertForSequenceClassification model from a BertForSequenceClassification model).\n",
            "Some weights or buffers of the TF 2.0 model TFDistilBertForSequenceClassification were not initialized from the PyTorch model and are newly initialized: ['pre_classifier.weight', 'pre_classifier.bias', 'classifier.weight', 'classifier.bias']\n",
            "You should probably TRAIN this model on a down-stream task to be able to use it for predictions and inference.\n"
          ]
        },
        {
          "output_type": "stream",
          "name": "stdout",
          "text": [
            "Epoch 1/20\n",
            "36/36 [==============================] - 71s 1s/step - loss: 0.6902 - accuracy: 0.5556\n",
            "Epoch 2/20\n",
            "36/36 [==============================] - 51s 1s/step - loss: 0.6287 - accuracy: 0.7222\n",
            "Epoch 3/20\n",
            "36/36 [==============================] - 50s 1s/step - loss: 0.5613 - accuracy: 0.7083\n",
            "Epoch 4/20\n",
            "36/36 [==============================] - 51s 1s/step - loss: 0.4196 - accuracy: 0.8472\n",
            "Epoch 5/20\n",
            "36/36 [==============================] - 51s 1s/step - loss: 0.2793 - accuracy: 0.9444\n",
            "Epoch 6/20\n",
            "36/36 [==============================] - 52s 1s/step - loss: 0.1972 - accuracy: 0.9444\n",
            "Epoch 7/20\n",
            "36/36 [==============================] - 52s 1s/step - loss: 0.1407 - accuracy: 0.9583\n",
            "Epoch 8/20\n",
            "36/36 [==============================] - 52s 1s/step - loss: 0.1201 - accuracy: 0.9861\n",
            "Epoch 9/20\n",
            "36/36 [==============================] - 52s 1s/step - loss: 0.0777 - accuracy: 0.9861\n",
            "Epoch 10/20\n",
            "36/36 [==============================] - 51s 1s/step - loss: 0.0373 - accuracy: 1.0000\n",
            "Epoch 11/20\n",
            "36/36 [==============================] - 50s 1s/step - loss: 0.0537 - accuracy: 0.9861\n",
            "Epoch 12/20\n",
            "36/36 [==============================] - 50s 1s/step - loss: 0.0228 - accuracy: 1.0000\n",
            "Epoch 13/20\n",
            "36/36 [==============================] - 51s 1s/step - loss: 0.0168 - accuracy: 1.0000\n",
            "Epoch 14/20\n",
            "36/36 [==============================] - 52s 1s/step - loss: 0.0131 - accuracy: 1.0000\n",
            "Epoch 15/20\n",
            "36/36 [==============================] - 50s 1s/step - loss: 0.0125 - accuracy: 1.0000\n",
            "Epoch 16/20\n",
            "36/36 [==============================] - 50s 1s/step - loss: 0.0094 - accuracy: 1.0000\n",
            "Epoch 17/20\n",
            "36/36 [==============================] - 51s 1s/step - loss: 0.0088 - accuracy: 1.0000\n",
            "Epoch 18/20\n",
            "36/36 [==============================] - 51s 1s/step - loss: 0.0082 - accuracy: 1.0000\n",
            "Epoch 19/20\n",
            "36/36 [==============================] - 50s 1s/step - loss: 0.0068 - accuracy: 1.0000\n",
            "Epoch 20/20\n",
            "36/36 [==============================] - 51s 1s/step - loss: 0.0062 - accuracy: 1.0000\n"
          ]
        },
        {
          "output_type": "execute_result",
          "data": {
            "text/plain": [
              "<keras.src.callbacks.History at 0x7e3ba2007fa0>"
            ]
          },
          "metadata": {},
          "execution_count": 31
        }
      ],
      "source": [
        "N_EPOCHS = 20\n",
        "model = TFDistilBertForSequenceClassification.from_pretrained(MODEL_NAME)\n",
        "optimizer = optimizers.Adam(learning_rate=1e-5)\n",
        "loss_fn = tf.keras.losses.SparseCategoricalCrossentropy(from_logits=True)\n",
        "\n",
        "model.compile(optimizer=optimizer, loss=loss_fn, metrics=['accuracy'])\n",
        "model.fit(tfdataset_train, batch_size=BATCH_SIZE, epochs=N_EPOCHS)"
      ]
    },
    {
      "cell_type": "code",
      "execution_count": null,
      "metadata": {
        "id": "UjN7qH91q8zN",
        "colab": {
          "base_uri": "https://localhost:8080/"
        },
        "outputId": "fceaa7bb-3257-4885-c470-5fa705196c0a"
      },
      "outputs": [
        {
          "output_type": "stream",
          "name": "stdout",
          "text": [
            "16/16 [==============================] - 4s 159ms/step - loss: 0.0045 - accuracy: 1.0000\n",
            "The accuracy of the model is 100%\n"
          ]
        }
      ],
      "source": [
        "#Check accuracy\n",
        "benchmarks = model.evaluate(tfdataset_test, return_dict=True, batch_size=BATCH_SIZE)\n",
        "accuracy = benchmarks['accuracy']\n",
        "print(f'The accuracy of the model is {round(accuracy*100)}%')"
      ]
    },
    {
      "cell_type": "markdown",
      "source": [
        "# TEST ON NEW DATASET"
      ],
      "metadata": {
        "id": "twcpkq1g4dXx"
      }
    },
    {
      "cell_type": "code",
      "source": [
        "testDF = pd.read_csv('preprocessed_data2020.csv')\n",
        "test_text = testDF['Preprocessed_Content']\n",
        "test_label = testDF['label']\n",
        "\n",
        "# Print the shape of the extracted arrays\n",
        "print(\"test_text shape:\", test_text.shape)\n",
        "print(\"test_label shape:\", test_label.shape)\n",
        "\n",
        "tokens_test = tkzr.batch_encode_plus(\n",
        "    test_text.tolist(),\n",
        "    max_length = 40,\n",
        "    pad_to_max_length=True,\n",
        "    truncation=True\n",
        ")\n",
        "\n",
        "test_seq = torch.tensor(tokens_test['input_ids'])\n",
        "test_mask = torch.tensor(tokens_test['attention_mask'])\n",
        "test_y = torch.tensor(test_label.tolist())"
      ],
      "metadata": {
        "colab": {
          "base_uri": "https://localhost:8080/"
        },
        "id": "rJrbRmatZwd8",
        "outputId": "3ed828b5-3eaf-4b56-ef7a-4e44cabb775d"
      },
      "execution_count": null,
      "outputs": [
        {
          "output_type": "stream",
          "name": "stdout",
          "text": [
            "test_text shape: (48,)\n",
            "test_label shape: (48,)\n"
          ]
        },
        {
          "output_type": "stream",
          "name": "stderr",
          "text": [
            "/usr/local/lib/python3.10/dist-packages/transformers/tokenization_utils_base.py:2622: FutureWarning: The `pad_to_max_length` argument is deprecated and will be removed in a future version, use `padding=True` or `padding='longest'` to pad to the longest sequence in the batch, or use `padding='max_length'` to pad to a max length. In this case, you can give a specific length with `max_length` (e.g. `max_length=45`) or leave max_length to None to pad to the maximal input size of the model (e.g. 512 for Bert).\n",
            "  warnings.warn(\n"
          ]
        }
      ]
    },
    {
      "cell_type": "code",
      "source": [
        "from sklearn.metrics import classification_report\n",
        "import tensorflow as tf\n",
        "\n",
        "# Convert PyTorch tensors to TensorFlow tensors\n",
        "test_seq_tf = tf.convert_to_tensor(test_seq.numpy())\n",
        "test_mask_tf = tf.convert_to_tensor(test_mask.numpy())\n",
        "\n",
        "# Use tf.config.list_physical_devices to check for GPU availability\n",
        "gpu_available = tf.config.list_physical_devices('GPU')\n",
        "\n",
        "# Use GPU if available, otherwise use CPU\n",
        "device = \"/GPU:0\" if gpu_available else \"/CPU:0\"\n",
        "\n",
        "with tf.device(device):\n",
        "    preds = model([test_seq_tf, test_mask_tf])\n",
        "\n",
        "# Access the logits and convert them to a NumPy array\n",
        "logits = preds.logits.numpy()\n",
        "preds = np.argmax(logits, axis=1)\n",
        "print(classification_report(test_y, preds))\n"
      ],
      "metadata": {
        "colab": {
          "base_uri": "https://localhost:8080/"
        },
        "id": "gaH1qkIeaGXG",
        "outputId": "ff9552e5-e7b9-4f91-d8c4-71b8b8f7f96d"
      },
      "execution_count": null,
      "outputs": [
        {
          "output_type": "stream",
          "name": "stdout",
          "text": [
            "              precision    recall  f1-score   support\n",
            "\n",
            "           0       0.78      0.75      0.77        24\n",
            "           1       0.76      0.79      0.78        24\n",
            "\n",
            "    accuracy                           0.77        48\n",
            "   macro avg       0.77      0.77      0.77        48\n",
            "weighted avg       0.77      0.77      0.77        48\n",
            "\n"
          ]
        }
      ]
    },
    {
      "cell_type": "markdown",
      "source": [
        "# SAVE THE MODEL"
      ],
      "metadata": {
        "id": "R6xZLHny4a0X"
      }
    },
    {
      "cell_type": "code",
      "source": [
        "from google.colab import drive\n",
        "drive.mount('/content/drive')\n",
        "\n",
        "\n",
        "model_directory = \"/content/drive/MyDrive/DistilBERT\"\n",
        "model.save_pretrained(model_directory)\n"
      ],
      "metadata": {
        "colab": {
          "base_uri": "https://localhost:8080/"
        },
        "id": "wNUuc7Z7kmGQ",
        "outputId": "fe3f9e24-36e5-404f-c7b4-b3f32c4fa6e7"
      },
      "execution_count": null,
      "outputs": [
        {
          "output_type": "stream",
          "name": "stdout",
          "text": [
            "Mounted at /content/drive\n"
          ]
        }
      ]
    },
    {
      "cell_type": "markdown",
      "metadata": {
        "id": "7qhSahSp75s2"
      },
      "source": [
        "##APPROACH 2 : TRAINING LOOP + USING K-FOLD CROSS VALIDATION"
      ]
    },
    {
      "cell_type": "code",
      "execution_count": null,
      "metadata": {
        "colab": {
          "base_uri": "https://localhost:8080/"
        },
        "id": "hbnrEvInA0_1",
        "outputId": "5ac13eb9-b209-4719-a3ea-004e128a706a"
      },
      "outputs": [
        {
          "output_type": "stream",
          "name": "stdout",
          "text": [
            "Fold 1/5\n"
          ]
        },
        {
          "output_type": "stream",
          "name": "stderr",
          "text": [
            "Some weights of the PyTorch model were not used when initializing the TF 2.0 model TFDistilBertForSequenceClassification: ['vocab_transform.weight', 'vocab_layer_norm.bias', 'vocab_projector.bias', 'vocab_layer_norm.weight', 'vocab_transform.bias']\n",
            "- This IS expected if you are initializing TFDistilBertForSequenceClassification from a PyTorch model trained on another task or with another architecture (e.g. initializing a TFBertForSequenceClassification model from a BertForPreTraining model).\n",
            "- This IS NOT expected if you are initializing TFDistilBertForSequenceClassification from a PyTorch model that you expect to be exactly identical (e.g. initializing a TFBertForSequenceClassification model from a BertForSequenceClassification model).\n",
            "Some weights or buffers of the TF 2.0 model TFDistilBertForSequenceClassification were not initialized from the PyTorch model and are newly initialized: ['pre_classifier.weight', 'pre_classifier.bias', 'classifier.weight', 'classifier.bias']\n",
            "You should probably TRAIN this model on a down-stream task to be able to use it for predictions and inference.\n"
          ]
        },
        {
          "output_type": "stream",
          "name": "stdout",
          "text": [
            "Epoch 1/10\n",
            "41/41 [==============================] - 84s 2s/step - loss: 1.0956 - accuracy: 0.5000 - val_loss: 0.6931 - val_accuracy: 0.7143\n",
            "Epoch 2/10\n",
            "41/41 [==============================] - 68s 2s/step - loss: 0.6931 - accuracy: 0.5854 - val_loss: 0.6931 - val_accuracy: 0.7143\n",
            "Epoch 3/10\n",
            "41/41 [==============================] - 62s 2s/step - loss: 0.6931 - accuracy: 0.4634 - val_loss: 0.6931 - val_accuracy: 0.7143\n",
            "Epoch 4/10\n",
            "41/41 [==============================] - 64s 2s/step - loss: 0.6931 - accuracy: 0.5610 - val_loss: 0.6931 - val_accuracy: 0.7143\n",
            "Epoch 5/10\n",
            "41/41 [==============================] - 64s 2s/step - loss: 0.6931 - accuracy: 0.6220 - val_loss: 0.6931 - val_accuracy: 0.7143\n",
            "Epoch 6/10\n",
            "41/41 [==============================] - 63s 2s/step - loss: 0.6931 - accuracy: 0.5244 - val_loss: 0.6931 - val_accuracy: 0.7143\n",
            "Epoch 7/10\n",
            "41/41 [==============================] - 63s 2s/step - loss: 0.6931 - accuracy: 0.4390 - val_loss: 0.6931 - val_accuracy: 0.7143\n",
            "Epoch 8/10\n",
            "41/41 [==============================] - 62s 2s/step - loss: 0.6931 - accuracy: 0.5366 - val_loss: 0.6931 - val_accuracy: 0.7143\n",
            "Epoch 9/10\n",
            "41/41 [==============================] - 61s 1s/step - loss: 0.6931 - accuracy: 0.5610 - val_loss: 0.6931 - val_accuracy: 0.7143\n",
            "Epoch 10/10\n",
            "41/41 [==============================] - 63s 2s/step - loss: 0.6931 - accuracy: 0.5976 - val_loss: 0.6931 - val_accuracy: 0.7143\n",
            "Fold 2/5\n"
          ]
        },
        {
          "output_type": "stream",
          "name": "stderr",
          "text": [
            "Some weights of the PyTorch model were not used when initializing the TF 2.0 model TFDistilBertForSequenceClassification: ['vocab_transform.weight', 'vocab_layer_norm.bias', 'vocab_projector.bias', 'vocab_layer_norm.weight', 'vocab_transform.bias']\n",
            "- This IS expected if you are initializing TFDistilBertForSequenceClassification from a PyTorch model trained on another task or with another architecture (e.g. initializing a TFBertForSequenceClassification model from a BertForPreTraining model).\n",
            "- This IS NOT expected if you are initializing TFDistilBertForSequenceClassification from a PyTorch model that you expect to be exactly identical (e.g. initializing a TFBertForSequenceClassification model from a BertForSequenceClassification model).\n",
            "Some weights or buffers of the TF 2.0 model TFDistilBertForSequenceClassification were not initialized from the PyTorch model and are newly initialized: ['pre_classifier.weight', 'pre_classifier.bias', 'classifier.weight', 'classifier.bias']\n",
            "You should probably TRAIN this model on a down-stream task to be able to use it for predictions and inference.\n"
          ]
        },
        {
          "output_type": "stream",
          "name": "stdout",
          "text": [
            "Epoch 1/10\n",
            "41/41 [==============================] - 83s 2s/step - loss: 2.1844 - accuracy: 0.5122 - val_loss: 0.6931 - val_accuracy: 0.7143\n",
            "Epoch 2/10\n",
            "41/41 [==============================] - 64s 2s/step - loss: 0.6931 - accuracy: 0.5854 - val_loss: 0.6931 - val_accuracy: 0.7143\n",
            "Epoch 3/10\n",
            "41/41 [==============================] - 66s 2s/step - loss: 0.6931 - accuracy: 0.6585 - val_loss: 0.6931 - val_accuracy: 0.7143\n",
            "Epoch 4/10\n",
            "41/41 [==============================] - 66s 2s/step - loss: 0.6931 - accuracy: 0.6463 - val_loss: 0.6931 - val_accuracy: 0.7143\n",
            "Epoch 5/10\n",
            "41/41 [==============================] - 64s 2s/step - loss: 0.6931 - accuracy: 0.5854 - val_loss: 0.6931 - val_accuracy: 0.7143\n",
            "Epoch 6/10\n",
            "41/41 [==============================] - 64s 2s/step - loss: 0.6931 - accuracy: 0.6220 - val_loss: 0.6931 - val_accuracy: 0.7143\n",
            "Epoch 7/10\n",
            "41/41 [==============================] - 63s 2s/step - loss: 0.6931 - accuracy: 0.6098 - val_loss: 0.6931 - val_accuracy: 0.7143\n",
            "Epoch 8/10\n",
            "41/41 [==============================] - 62s 1s/step - loss: 0.6931 - accuracy: 0.6098 - val_loss: 0.6931 - val_accuracy: 0.7143\n",
            "Epoch 9/10\n",
            "41/41 [==============================] - 62s 2s/step - loss: 0.6931 - accuracy: 0.6098 - val_loss: 0.6931 - val_accuracy: 0.7143\n",
            "Epoch 10/10\n",
            "41/41 [==============================] - 63s 2s/step - loss: 0.6931 - accuracy: 0.5976 - val_loss: 0.6931 - val_accuracy: 0.7143\n",
            "Fold 3/5\n"
          ]
        },
        {
          "output_type": "stream",
          "name": "stderr",
          "text": [
            "Some weights of the PyTorch model were not used when initializing the TF 2.0 model TFDistilBertForSequenceClassification: ['vocab_transform.weight', 'vocab_layer_norm.bias', 'vocab_projector.bias', 'vocab_layer_norm.weight', 'vocab_transform.bias']\n",
            "- This IS expected if you are initializing TFDistilBertForSequenceClassification from a PyTorch model trained on another task or with another architecture (e.g. initializing a TFBertForSequenceClassification model from a BertForPreTraining model).\n",
            "- This IS NOT expected if you are initializing TFDistilBertForSequenceClassification from a PyTorch model that you expect to be exactly identical (e.g. initializing a TFBertForSequenceClassification model from a BertForSequenceClassification model).\n",
            "Some weights or buffers of the TF 2.0 model TFDistilBertForSequenceClassification were not initialized from the PyTorch model and are newly initialized: ['pre_classifier.weight', 'pre_classifier.bias', 'classifier.weight', 'classifier.bias']\n",
            "You should probably TRAIN this model on a down-stream task to be able to use it for predictions and inference.\n"
          ]
        },
        {
          "output_type": "stream",
          "name": "stdout",
          "text": [
            "Epoch 1/10\n",
            "41/41 [==============================] - 86s 2s/step - loss: 0.8115 - accuracy: 0.5610 - val_loss: 0.6931 - val_accuracy: 0.8095\n",
            "Epoch 2/10\n",
            "41/41 [==============================] - 65s 2s/step - loss: 0.8169 - accuracy: 0.4024 - val_loss: 0.6931 - val_accuracy: 0.2857\n",
            "Epoch 3/10\n",
            "41/41 [==============================] - 65s 2s/step - loss: 0.8482 - accuracy: 0.5610 - val_loss: 0.6931 - val_accuracy: 0.2857\n",
            "Epoch 4/10\n",
            "41/41 [==============================] - 63s 2s/step - loss: 0.6931 - accuracy: 0.5488 - val_loss: 0.6931 - val_accuracy: 0.2857\n",
            "Epoch 5/10\n",
            "41/41 [==============================] - 64s 2s/step - loss: 0.6931 - accuracy: 0.5610 - val_loss: 0.6931 - val_accuracy: 0.2857\n",
            "Epoch 6/10\n",
            "41/41 [==============================] - 63s 2s/step - loss: 0.6931 - accuracy: 0.5732 - val_loss: 0.6931 - val_accuracy: 0.2857\n",
            "Epoch 7/10\n",
            "41/41 [==============================] - 63s 2s/step - loss: 0.6931 - accuracy: 0.5488 - val_loss: 0.6931 - val_accuracy: 0.2857\n",
            "Epoch 8/10\n",
            "41/41 [==============================] - 63s 2s/step - loss: 0.6931 - accuracy: 0.5488 - val_loss: 0.6931 - val_accuracy: 0.2857\n",
            "Epoch 9/10\n",
            "41/41 [==============================] - 64s 2s/step - loss: 0.6931 - accuracy: 0.5610 - val_loss: 0.6931 - val_accuracy: 0.2857\n",
            "Epoch 10/10\n",
            "41/41 [==============================] - 64s 2s/step - loss: 0.6931 - accuracy: 0.5854 - val_loss: 0.6931 - val_accuracy: 0.2857\n",
            "Fold 4/5\n"
          ]
        },
        {
          "output_type": "stream",
          "name": "stderr",
          "text": [
            "Some weights of the PyTorch model were not used when initializing the TF 2.0 model TFDistilBertForSequenceClassification: ['vocab_transform.weight', 'vocab_layer_norm.bias', 'vocab_projector.bias', 'vocab_layer_norm.weight', 'vocab_transform.bias']\n",
            "- This IS expected if you are initializing TFDistilBertForSequenceClassification from a PyTorch model trained on another task or with another architecture (e.g. initializing a TFBertForSequenceClassification model from a BertForPreTraining model).\n",
            "- This IS NOT expected if you are initializing TFDistilBertForSequenceClassification from a PyTorch model that you expect to be exactly identical (e.g. initializing a TFBertForSequenceClassification model from a BertForSequenceClassification model).\n",
            "Some weights or buffers of the TF 2.0 model TFDistilBertForSequenceClassification were not initialized from the PyTorch model and are newly initialized: ['pre_classifier.weight', 'pre_classifier.bias', 'classifier.weight', 'classifier.bias']\n",
            "You should probably TRAIN this model on a down-stream task to be able to use it for predictions and inference.\n"
          ]
        },
        {
          "output_type": "stream",
          "name": "stdout",
          "text": [
            "Epoch 1/10\n",
            "42/42 [==============================] - 90s 2s/step - loss: 1.4080 - accuracy: 0.5301 - val_loss: 0.6931 - val_accuracy: 0.3000\n",
            "Epoch 2/10\n",
            "42/42 [==============================] - 68s 2s/step - loss: 0.8060 - accuracy: 0.5301 - val_loss: 0.6931 - val_accuracy: 0.7500\n",
            "Epoch 3/10\n",
            "42/42 [==============================] - 68s 2s/step - loss: 0.6931 - accuracy: 0.3614 - val_loss: 0.6931 - val_accuracy: 0.7500\n",
            "Epoch 4/10\n",
            "42/42 [==============================] - 68s 2s/step - loss: 0.6931 - accuracy: 0.5301 - val_loss: 0.6931 - val_accuracy: 0.7500\n",
            "Epoch 5/10\n",
            "42/42 [==============================] - 71s 2s/step - loss: 0.6931 - accuracy: 0.4458 - val_loss: 0.6931 - val_accuracy: 0.7500\n",
            "Epoch 6/10\n",
            "42/42 [==============================] - 67s 2s/step - loss: 0.6931 - accuracy: 0.5422 - val_loss: 0.6931 - val_accuracy: 0.7500\n",
            "Epoch 7/10\n",
            "42/42 [==============================] - 68s 2s/step - loss: 0.6931 - accuracy: 0.5542 - val_loss: 0.6931 - val_accuracy: 0.7500\n",
            "Epoch 8/10\n",
            "42/42 [==============================] - 67s 2s/step - loss: 0.6931 - accuracy: 0.4819 - val_loss: 0.6931 - val_accuracy: 0.7500\n",
            "Epoch 9/10\n",
            "42/42 [==============================] - 65s 2s/step - loss: 0.6931 - accuracy: 0.5181 - val_loss: 0.6931 - val_accuracy: 0.7500\n",
            "Epoch 10/10\n",
            "42/42 [==============================] - 68s 2s/step - loss: 0.6931 - accuracy: 0.4458 - val_loss: 0.6931 - val_accuracy: 0.7500\n",
            "Fold 5/5\n"
          ]
        },
        {
          "output_type": "stream",
          "name": "stderr",
          "text": [
            "Some weights of the PyTorch model were not used when initializing the TF 2.0 model TFDistilBertForSequenceClassification: ['vocab_transform.weight', 'vocab_layer_norm.bias', 'vocab_projector.bias', 'vocab_layer_norm.weight', 'vocab_transform.bias']\n",
            "- This IS expected if you are initializing TFDistilBertForSequenceClassification from a PyTorch model trained on another task or with another architecture (e.g. initializing a TFBertForSequenceClassification model from a BertForPreTraining model).\n",
            "- This IS NOT expected if you are initializing TFDistilBertForSequenceClassification from a PyTorch model that you expect to be exactly identical (e.g. initializing a TFBertForSequenceClassification model from a BertForSequenceClassification model).\n",
            "Some weights or buffers of the TF 2.0 model TFDistilBertForSequenceClassification were not initialized from the PyTorch model and are newly initialized: ['pre_classifier.weight', 'pre_classifier.bias', 'classifier.weight', 'classifier.bias']\n",
            "You should probably TRAIN this model on a down-stream task to be able to use it for predictions and inference.\n"
          ]
        },
        {
          "output_type": "stream",
          "name": "stdout",
          "text": [
            "Epoch 1/10\n",
            "42/42 [==============================] - 100s 2s/step - loss: 1.4828 - accuracy: 0.4699 - val_loss: 0.6931 - val_accuracy: 0.6000\n",
            "Epoch 2/10\n",
            "42/42 [==============================] - 67s 2s/step - loss: 0.6931 - accuracy: 0.4940 - val_loss: 0.6931 - val_accuracy: 0.6000\n",
            "Epoch 3/10\n",
            "42/42 [==============================] - 67s 2s/step - loss: 0.6931 - accuracy: 0.5301 - val_loss: 0.6931 - val_accuracy: 0.6000\n",
            "Epoch 4/10\n",
            "42/42 [==============================] - 67s 2s/step - loss: 0.6931 - accuracy: 0.4699 - val_loss: 0.6931 - val_accuracy: 0.6000\n",
            "Epoch 5/10\n",
            "42/42 [==============================] - 66s 2s/step - loss: 0.6931 - accuracy: 0.4699 - val_loss: 0.6931 - val_accuracy: 0.6000\n",
            "Epoch 6/10\n",
            "42/42 [==============================] - 66s 2s/step - loss: 0.6931 - accuracy: 0.4940 - val_loss: 0.6931 - val_accuracy: 0.6000\n",
            "Epoch 7/10\n",
            "42/42 [==============================] - 66s 2s/step - loss: 0.6931 - accuracy: 0.5181 - val_loss: 0.6931 - val_accuracy: 0.6000\n",
            "Epoch 8/10\n",
            "42/42 [==============================] - 65s 2s/step - loss: 0.6931 - accuracy: 0.4819 - val_loss: 0.6931 - val_accuracy: 0.6000\n",
            "Epoch 9/10\n",
            "42/42 [==============================] - 64s 2s/step - loss: 0.6931 - accuracy: 0.5060 - val_loss: 0.6931 - val_accuracy: 0.6000\n",
            "Epoch 10/10\n",
            "42/42 [==============================] - 66s 2s/step - loss: 0.6931 - accuracy: 0.4699 - val_loss: 0.6931 - val_accuracy: 0.6000\n",
            "Average Training Loss: [1.39648079 0.74047374 0.72416291 0.69314752 0.69314752 0.69314752\n",
            " 0.69314752 0.69314752 0.69314752 0.69314752]\n",
            "Average Training Accuracy: [0.51463414 0.51945342 0.51489863 0.55121951 0.53679106 0.55113135\n",
            " 0.53397003 0.53179549 0.55116075 0.5392301 ]\n",
            "Average Validation Loss: [0.69314718 0.69314718 0.69314718 0.69314718 0.69314718 0.69314718\n",
            " 0.69314718 0.69314718 0.69314718 0.69314718]\n",
            "Average Validation Accuracy: [0.62761906 0.61285716 0.61285716 0.61285716 0.61285716 0.61285716\n",
            " 0.61285716 0.61285716 0.61285716 0.61285716]\n"
          ]
        }
      ],
      "source": [
        "# Initialize KFold cross-validator\n",
        "N_FOLDS = 5\n",
        "kf = KFold(n_splits=N_FOLDS, shuffle=True, random_state=42)\n",
        "BATCH_SIZE = 2\n",
        "N_EPOCHS = 10\n",
        "\n",
        "# Initialize lists to store metrics across folds\n",
        "fold_train_losses = []\n",
        "fold_train_accuracies = []\n",
        "fold_val_losses = []\n",
        "fold_val_accuracies = []\n",
        "\n",
        "# Convert x and y to NumPy arrays\n",
        "x = np.array(encodings['input_ids'])\n",
        "y = np.array(y)\n",
        "\n",
        "#TRAINING LOOP\n",
        "for fold, (train_idx, val_idx) in enumerate(kf.split(x)):\n",
        "    print(f\"Fold {fold + 1}/{N_FOLDS}\")\n",
        "\n",
        "    x_train, y_train = x[train_idx], y[train_idx]\n",
        "    x_val, y_val = x[val_idx], y[val_idx]\n",
        "\n",
        "    # Create and compile the model\n",
        "    model = TFDistilBertForSequenceClassification.from_pretrained(MODEL_NAME)\n",
        "    optimizer = Adam(learning_rate=1e-5)\n",
        "    model.compile(optimizer=optimizer, loss='sparse_categorical_crossentropy' , metrics=['accuracy'])\n",
        "\n",
        "    # Create TensorFlow Datasets\n",
        "    tfdataset_train = tf.data.Dataset.from_tensor_slices((x_train, y_train))\n",
        "    tfdataset_train = tfdataset_train.shuffle(len(x_train)).batch(BATCH_SIZE)\n",
        "\n",
        "    tfdataset_val = tf.data.Dataset.from_tensor_slices((x_val, y_val))\n",
        "    tfdataset_val = tfdataset_val.batch(BATCH_SIZE)\n",
        "\n",
        "    # Build the optimizer with the list of trainable variables\n",
        "    optimizer.build(model.trainable_variables)\n",
        "\n",
        "    # Train the model\n",
        "    history = model.fit(tfdataset_train, epochs=N_EPOCHS, validation_data=tfdataset_val)\n",
        "\n",
        "    # Store metrics for this fold\n",
        "    fold_train_losses.append(history.history['loss'])\n",
        "    fold_train_accuracies.append(history.history['accuracy'])\n",
        "    fold_val_losses.append(history.history['val_loss'])\n",
        "    fold_val_accuracies.append(history.history['val_accuracy'])\n",
        "\n",
        "# Calculate average metrics across all folds\n",
        "avg_train_loss = np.mean(fold_train_losses, axis=0)\n",
        "avg_train_accuracy = np.mean(fold_train_accuracies, axis=0)\n",
        "avg_val_loss = np.mean(fold_val_losses, axis=0)\n",
        "avg_val_accuracy = np.mean(fold_val_accuracies, axis=0)\n",
        "\n",
        "print(\"Average Training Loss:\", avg_train_loss)\n",
        "print(\"Average Training Accuracy:\", avg_train_accuracy)\n",
        "print(\"Average Validation Loss:\", avg_val_loss)\n",
        "print(\"Average Validation Accuracy:\", avg_val_accuracy)\n",
        "\n"
      ]
    },
    {
      "cell_type": "code",
      "source": [
        "testDF = pd.read_csv('preprocessed_data2020.csv')\n",
        "test_text = testDF['Preprocessed_Content']\n",
        "test_label = testDF['label']\n",
        "\n",
        "# Print the shape of the extracted arrays\n",
        "print(\"test_text shape:\", test_text.shape)\n",
        "print(\"test_label shape:\", test_label.shape)\n",
        "\n",
        "tokens_test = tkzr.batch_encode_plus(\n",
        "    test_text.tolist(),\n",
        "    max_length = 40,\n",
        "    pad_to_max_length=True,\n",
        "    truncation=True\n",
        ")\n",
        "\n",
        "test_seq = torch.tensor(tokens_test['input_ids'])\n",
        "test_mask = torch.tensor(tokens_test['attention_mask'])\n",
        "test_y = torch.tensor(test_label.tolist())"
      ],
      "metadata": {
        "colab": {
          "base_uri": "https://localhost:8080/"
        },
        "id": "rv0YG70r1dqH",
        "outputId": "881fed4c-71c2-4e48-ce71-032e355cfb4d"
      },
      "execution_count": null,
      "outputs": [
        {
          "output_type": "stream",
          "name": "stdout",
          "text": [
            "test_text shape: (48,)\n",
            "test_label shape: (48,)\n"
          ]
        },
        {
          "output_type": "stream",
          "name": "stderr",
          "text": [
            "/usr/local/lib/python3.10/dist-packages/transformers/tokenization_utils_base.py:2622: FutureWarning: The `pad_to_max_length` argument is deprecated and will be removed in a future version, use `padding=True` or `padding='longest'` to pad to the longest sequence in the batch, or use `padding='max_length'` to pad to a max length. In this case, you can give a specific length with `max_length` (e.g. `max_length=45`) or leave max_length to None to pad to the maximal input size of the model (e.g. 512 for Bert).\n",
            "  warnings.warn(\n"
          ]
        }
      ]
    },
    {
      "cell_type": "code",
      "source": [
        "from sklearn.metrics import classification_report\n",
        "import tensorflow as tf\n",
        "\n",
        "# Convert PyTorch tensors to TensorFlow tensors\n",
        "test_seq_tf = tf.convert_to_tensor(test_seq.numpy())\n",
        "test_mask_tf = tf.convert_to_tensor(test_mask.numpy())\n",
        "\n",
        "# Use tf.config.list_physical_devices to check for GPU availability\n",
        "gpu_available = tf.config.list_physical_devices('GPU')\n",
        "\n",
        "# Use GPU if available, otherwise use CPU\n",
        "device = \"/GPU:0\" if gpu_available else \"/CPU:0\"\n",
        "\n",
        "with tf.device(device):\n",
        "    preds = model([test_seq_tf, test_mask_tf])\n",
        "\n",
        "# Access the logits and convert them to a NumPy array\n",
        "logits = preds.logits.numpy()\n",
        "preds = np.argmax(logits, axis=1)\n",
        "print(classification_report(test_y, preds))\n"
      ],
      "metadata": {
        "colab": {
          "base_uri": "https://localhost:8080/"
        },
        "id": "LgZiE3LF1hsD",
        "outputId": "40bdd04f-4ec4-4030-b271-6a7e78693d2e"
      },
      "execution_count": null,
      "outputs": [
        {
          "output_type": "stream",
          "name": "stdout",
          "text": [
            "              precision    recall  f1-score   support\n",
            "\n",
            "           0       1.00      0.04      0.08        24\n",
            "           1       0.51      1.00      0.68        24\n",
            "\n",
            "    accuracy                           0.52        48\n",
            "   macro avg       0.76      0.52      0.38        48\n",
            "weighted avg       0.76      0.52      0.38        48\n",
            "\n"
          ]
        }
      ]
    },
    {
      "cell_type": "markdown",
      "metadata": {
        "id": "o_grk9TzZmig"
      },
      "source": [
        "## FUNCTIONS ĐỂ TEST ON REAL DATA (COMPLETELY NEW DATA)"
      ]
    },
    {
      "cell_type": "code",
      "execution_count": null,
      "metadata": {
        "id": "kSwlE_o8iEak"
      },
      "outputs": [],
      "source": [
        "#Hàm sài để test 1 sample data lẻ (1 transcript)\n",
        "def create_predictor(model, model_name, max_len):\n",
        "  tkzr = DistilBertTokenizer.from_pretrained(model_name)\n",
        "  def predict_proba(text):\n",
        "      x = [text]\n",
        "\n",
        "      encodings = construct_encodings(x, tkzr, max_len=max_len)\n",
        "      tfdataset = construct_tfdataset(encodings)\n",
        "      tfdataset = tfdataset.batch(1)\n",
        "\n",
        "      preds = model.predict(tfdataset).logits\n",
        "      preds = activations.softmax(tf.convert_to_tensor(preds)).numpy()\n",
        "      return preds[0][0]\n",
        "\n",
        "  return predict_proba"
      ]
    },
    {
      "cell_type": "code",
      "execution_count": null,
      "metadata": {
        "id": "Jgg8PuVfkKTV"
      },
      "outputs": [],
      "source": [
        "#VÍ DỤ CÁCH SÀI\n",
        "\n",
        "clf = create_predictor(model, MODEL_NAME,20)\n",
        "proba = clf('''Hello\n",
        "''')\n",
        "if proba>0.5:\n",
        "  print(f'Model prediction : Alzheimer')\n",
        "  print(f'The percentage of Alzheimer is : {round(proba*100)}%')\n",
        "else:\n",
        "  print(\"Model prediction : Healthy\")\n",
        "  print(f'The percentage of healthy is : {round(100-proba*100)}%')\n"
      ]
    },
    {
      "cell_type": "code",
      "execution_count": null,
      "metadata": {
        "id": "PdTf_zRqVKre"
      },
      "outputs": [],
      "source": [
        "#Hàm sài để test 1 dataset luôn (nhiều transcript cùng lúc)\n",
        "def create_predictor(model, model_name, max_len):\n",
        "    tkzr = DistilBertTokenizer.from_pretrained(model_name)\n",
        "\n",
        "    def predict_proba(text):\n",
        "        x = [text]\n",
        "\n",
        "        encodings = construct_encodings(x, tkzr, max_len=max_len)\n",
        "        tfdataset = construct_tfdataset(encodings)\n",
        "        tfdataset = tfdataset.batch(1)\n",
        "\n",
        "        preds = model.predict(tfdataset).logits\n",
        "        preds = activations.softmax(tf.convert_to_tensor(preds)).numpy()\n",
        "        return preds[0][0]\n",
        "\n",
        "    return predict_proba\n"
      ]
    },
    {
      "cell_type": "code",
      "execution_count": null,
      "metadata": {
        "id": "ZooY44XcZekG"
      },
      "outputs": [],
      "source": [
        "#VÍ DỤ CÁCH SÀI\n",
        "\n",
        "# Load the new DataFrame\n",
        "new_df = pd.read_csv(\"./preprocessed_data2020.csv\")\n",
        "\n",
        "# Define the maximum sequence length\n",
        "max_len = 128  # Adjust this value as needed\n",
        "\n",
        "# Create the predictor function\n",
        "predict_proba = create_predictor(model, \"distilbert-base-uncased\", 50)\n",
        "\n",
        "# Apply the predictor function to each row of the new DataFrame\n",
        "new_df[\"Predictions\"] = new_df[\"Preprocessed_Content\"].apply(predict_proba)\n",
        "\n",
        "csv_filename = \"test_data2020(1).csv\"\n",
        "new_df.to_csv(csv_filename, index=False)\n",
        "\n",
        "from google.colab import files\n",
        "files.download(csv_filename)"
      ]
    },
    {
      "cell_type": "code",
      "source": [
        "Dear Admission Officer,\n",
        "\n",
        "I am Huong Thi Thanh Ha, a Lecturer at International University, Vietnam National University, Ho Chi Minh City. I earned my PhD in Neuroscience at Stanford University in 2018 and returned to Vietnam after graduation to establish the Brain Health Lab, which aims to address mental health issues and cognitive-aging disorders in Vietnam. My partner, Dr. Lua Thi Ngo, and I are currently mentoring a team of 4 high school students from VNU HCM - High School for the Gifted in research related to using Natural Language Processing to detect Alzheimer’s Disease based on language impairment through speech. Xuan Khoi is the leader of the team. It is my pleasure to recommend Khoi for the Computer Science program at your institution.\n",
        "\n",
        "During the research period, Khoi consistently demonstrated exceptional leadership as he guided his team through the research process. His main responsibilities included reviewing research papers to define a research direction for the team, assigning tasks to each team member, and monitoring their weekly progress. One of the biggest challenges they encountered was the low and fluctuating accuracy of the model after the training process. During that time, Khoi played a pivotal role in motivating his team and keeping their spirits high. He dedicated a significant amount of time to immersing himself in various research papers to find a new technique to improve the model's accuracy. Initially, he attempted a fine-tuning approach, which failed to yield the desired results. After a week of persistence, Khoi discovered a viable solution: implementing a learning rate scheduler. I am truly impressed by Khoi's patience, resilience, and his ability to boost the team's morale during the most challenging times.\n",
        "\n",
        "Regarding work ethics, I observed that Khoi was not only diligent in his work but also detail-oriented in the way he updated both me and Ms. Lua about the team's progress every week. His presentations clearly demonstrated his contributions to the research and his remarkable ability to provide thorough responses to all of mine and Ms. Lua's questions. This exemplified his comprehensive understanding not only of his own work but also of the team's weekly processes as a whole. In the presentations, he would also share his findings on effective training techniques, including the Learning Rate Scheduler, Grid Search, and 10-fold Cross-Validation.\n",
        "\n",
        "In closing, I have no doubt that Khoi possesses the qualities, skills, and dedication required to excel in intensive Computer Science research. His leadership, combined with his infectious passion for the field of Artificial Intelligence and his remarkable work ethic, undoubtedly make him an outstanding candidate for your institution.\n",
        "\n",
        "Sincerely,\n"
      ],
      "metadata": {
        "id": "656WU2mTwHiQ"
      },
      "execution_count": null,
      "outputs": []
    }
  ],
  "metadata": {
    "colab": {
      "provenance": [],
      "include_colab_link": true
    },
    "kernelspec": {
      "display_name": "Python 3",
      "name": "python3"
    },
    "language_info": {
      "name": "python"
    },
    "widgets": {
      "application/vnd.jupyter.widget-state+json": {
        "31f8df269186498e991fb0a738b00f7b": {
          "model_module": "@jupyter-widgets/controls",
          "model_name": "HBoxModel",
          "model_module_version": "1.5.0",
          "state": {
            "_dom_classes": [],
            "_model_module": "@jupyter-widgets/controls",
            "_model_module_version": "1.5.0",
            "_model_name": "HBoxModel",
            "_view_count": null,
            "_view_module": "@jupyter-widgets/controls",
            "_view_module_version": "1.5.0",
            "_view_name": "HBoxView",
            "box_style": "",
            "children": [
              "IPY_MODEL_783b36c61bb849b580d843f3c252b420",
              "IPY_MODEL_0fdd240b6ef249df916b2b463b03a7d6",
              "IPY_MODEL_765c6a81f1a848e1bc555d4fcad0d613"
            ],
            "layout": "IPY_MODEL_95f60650f5434e0f8aa0f43d46e9d86d"
          }
        },
        "783b36c61bb849b580d843f3c252b420": {
          "model_module": "@jupyter-widgets/controls",
          "model_name": "HTMLModel",
          "model_module_version": "1.5.0",
          "state": {
            "_dom_classes": [],
            "_model_module": "@jupyter-widgets/controls",
            "_model_module_version": "1.5.0",
            "_model_name": "HTMLModel",
            "_view_count": null,
            "_view_module": "@jupyter-widgets/controls",
            "_view_module_version": "1.5.0",
            "_view_name": "HTMLView",
            "description": "",
            "description_tooltip": null,
            "layout": "IPY_MODEL_a7bc5081bb134db1b3626c0989c41535",
            "placeholder": "​",
            "style": "IPY_MODEL_7d7664b5f2fe46ee8100846d65dc5c37",
            "value": "Downloading (…)okenizer_config.json: 100%"
          }
        },
        "0fdd240b6ef249df916b2b463b03a7d6": {
          "model_module": "@jupyter-widgets/controls",
          "model_name": "FloatProgressModel",
          "model_module_version": "1.5.0",
          "state": {
            "_dom_classes": [],
            "_model_module": "@jupyter-widgets/controls",
            "_model_module_version": "1.5.0",
            "_model_name": "FloatProgressModel",
            "_view_count": null,
            "_view_module": "@jupyter-widgets/controls",
            "_view_module_version": "1.5.0",
            "_view_name": "ProgressView",
            "bar_style": "success",
            "description": "",
            "description_tooltip": null,
            "layout": "IPY_MODEL_f27775d76a1f42e6bf63cb46c0be8d0b",
            "max": 28,
            "min": 0,
            "orientation": "horizontal",
            "style": "IPY_MODEL_47e013a4202644689749e5168912cc22",
            "value": 28
          }
        },
        "765c6a81f1a848e1bc555d4fcad0d613": {
          "model_module": "@jupyter-widgets/controls",
          "model_name": "HTMLModel",
          "model_module_version": "1.5.0",
          "state": {
            "_dom_classes": [],
            "_model_module": "@jupyter-widgets/controls",
            "_model_module_version": "1.5.0",
            "_model_name": "HTMLModel",
            "_view_count": null,
            "_view_module": "@jupyter-widgets/controls",
            "_view_module_version": "1.5.0",
            "_view_name": "HTMLView",
            "description": "",
            "description_tooltip": null,
            "layout": "IPY_MODEL_d3dec53a22e54068946c6808a3c61a6b",
            "placeholder": "​",
            "style": "IPY_MODEL_f43a6db4429948e79521a20639685281",
            "value": " 28.0/28.0 [00:00&lt;00:00, 468B/s]"
          }
        },
        "95f60650f5434e0f8aa0f43d46e9d86d": {
          "model_module": "@jupyter-widgets/base",
          "model_name": "LayoutModel",
          "model_module_version": "1.2.0",
          "state": {
            "_model_module": "@jupyter-widgets/base",
            "_model_module_version": "1.2.0",
            "_model_name": "LayoutModel",
            "_view_count": null,
            "_view_module": "@jupyter-widgets/base",
            "_view_module_version": "1.2.0",
            "_view_name": "LayoutView",
            "align_content": null,
            "align_items": null,
            "align_self": null,
            "border": null,
            "bottom": null,
            "display": null,
            "flex": null,
            "flex_flow": null,
            "grid_area": null,
            "grid_auto_columns": null,
            "grid_auto_flow": null,
            "grid_auto_rows": null,
            "grid_column": null,
            "grid_gap": null,
            "grid_row": null,
            "grid_template_areas": null,
            "grid_template_columns": null,
            "grid_template_rows": null,
            "height": null,
            "justify_content": null,
            "justify_items": null,
            "left": null,
            "margin": null,
            "max_height": null,
            "max_width": null,
            "min_height": null,
            "min_width": null,
            "object_fit": null,
            "object_position": null,
            "order": null,
            "overflow": null,
            "overflow_x": null,
            "overflow_y": null,
            "padding": null,
            "right": null,
            "top": null,
            "visibility": null,
            "width": null
          }
        },
        "a7bc5081bb134db1b3626c0989c41535": {
          "model_module": "@jupyter-widgets/base",
          "model_name": "LayoutModel",
          "model_module_version": "1.2.0",
          "state": {
            "_model_module": "@jupyter-widgets/base",
            "_model_module_version": "1.2.0",
            "_model_name": "LayoutModel",
            "_view_count": null,
            "_view_module": "@jupyter-widgets/base",
            "_view_module_version": "1.2.0",
            "_view_name": "LayoutView",
            "align_content": null,
            "align_items": null,
            "align_self": null,
            "border": null,
            "bottom": null,
            "display": null,
            "flex": null,
            "flex_flow": null,
            "grid_area": null,
            "grid_auto_columns": null,
            "grid_auto_flow": null,
            "grid_auto_rows": null,
            "grid_column": null,
            "grid_gap": null,
            "grid_row": null,
            "grid_template_areas": null,
            "grid_template_columns": null,
            "grid_template_rows": null,
            "height": null,
            "justify_content": null,
            "justify_items": null,
            "left": null,
            "margin": null,
            "max_height": null,
            "max_width": null,
            "min_height": null,
            "min_width": null,
            "object_fit": null,
            "object_position": null,
            "order": null,
            "overflow": null,
            "overflow_x": null,
            "overflow_y": null,
            "padding": null,
            "right": null,
            "top": null,
            "visibility": null,
            "width": null
          }
        },
        "7d7664b5f2fe46ee8100846d65dc5c37": {
          "model_module": "@jupyter-widgets/controls",
          "model_name": "DescriptionStyleModel",
          "model_module_version": "1.5.0",
          "state": {
            "_model_module": "@jupyter-widgets/controls",
            "_model_module_version": "1.5.0",
            "_model_name": "DescriptionStyleModel",
            "_view_count": null,
            "_view_module": "@jupyter-widgets/base",
            "_view_module_version": "1.2.0",
            "_view_name": "StyleView",
            "description_width": ""
          }
        },
        "f27775d76a1f42e6bf63cb46c0be8d0b": {
          "model_module": "@jupyter-widgets/base",
          "model_name": "LayoutModel",
          "model_module_version": "1.2.0",
          "state": {
            "_model_module": "@jupyter-widgets/base",
            "_model_module_version": "1.2.0",
            "_model_name": "LayoutModel",
            "_view_count": null,
            "_view_module": "@jupyter-widgets/base",
            "_view_module_version": "1.2.0",
            "_view_name": "LayoutView",
            "align_content": null,
            "align_items": null,
            "align_self": null,
            "border": null,
            "bottom": null,
            "display": null,
            "flex": null,
            "flex_flow": null,
            "grid_area": null,
            "grid_auto_columns": null,
            "grid_auto_flow": null,
            "grid_auto_rows": null,
            "grid_column": null,
            "grid_gap": null,
            "grid_row": null,
            "grid_template_areas": null,
            "grid_template_columns": null,
            "grid_template_rows": null,
            "height": null,
            "justify_content": null,
            "justify_items": null,
            "left": null,
            "margin": null,
            "max_height": null,
            "max_width": null,
            "min_height": null,
            "min_width": null,
            "object_fit": null,
            "object_position": null,
            "order": null,
            "overflow": null,
            "overflow_x": null,
            "overflow_y": null,
            "padding": null,
            "right": null,
            "top": null,
            "visibility": null,
            "width": null
          }
        },
        "47e013a4202644689749e5168912cc22": {
          "model_module": "@jupyter-widgets/controls",
          "model_name": "ProgressStyleModel",
          "model_module_version": "1.5.0",
          "state": {
            "_model_module": "@jupyter-widgets/controls",
            "_model_module_version": "1.5.0",
            "_model_name": "ProgressStyleModel",
            "_view_count": null,
            "_view_module": "@jupyter-widgets/base",
            "_view_module_version": "1.2.0",
            "_view_name": "StyleView",
            "bar_color": null,
            "description_width": ""
          }
        },
        "d3dec53a22e54068946c6808a3c61a6b": {
          "model_module": "@jupyter-widgets/base",
          "model_name": "LayoutModel",
          "model_module_version": "1.2.0",
          "state": {
            "_model_module": "@jupyter-widgets/base",
            "_model_module_version": "1.2.0",
            "_model_name": "LayoutModel",
            "_view_count": null,
            "_view_module": "@jupyter-widgets/base",
            "_view_module_version": "1.2.0",
            "_view_name": "LayoutView",
            "align_content": null,
            "align_items": null,
            "align_self": null,
            "border": null,
            "bottom": null,
            "display": null,
            "flex": null,
            "flex_flow": null,
            "grid_area": null,
            "grid_auto_columns": null,
            "grid_auto_flow": null,
            "grid_auto_rows": null,
            "grid_column": null,
            "grid_gap": null,
            "grid_row": null,
            "grid_template_areas": null,
            "grid_template_columns": null,
            "grid_template_rows": null,
            "height": null,
            "justify_content": null,
            "justify_items": null,
            "left": null,
            "margin": null,
            "max_height": null,
            "max_width": null,
            "min_height": null,
            "min_width": null,
            "object_fit": null,
            "object_position": null,
            "order": null,
            "overflow": null,
            "overflow_x": null,
            "overflow_y": null,
            "padding": null,
            "right": null,
            "top": null,
            "visibility": null,
            "width": null
          }
        },
        "f43a6db4429948e79521a20639685281": {
          "model_module": "@jupyter-widgets/controls",
          "model_name": "DescriptionStyleModel",
          "model_module_version": "1.5.0",
          "state": {
            "_model_module": "@jupyter-widgets/controls",
            "_model_module_version": "1.5.0",
            "_model_name": "DescriptionStyleModel",
            "_view_count": null,
            "_view_module": "@jupyter-widgets/base",
            "_view_module_version": "1.2.0",
            "_view_name": "StyleView",
            "description_width": ""
          }
        },
        "7f2abdd3bbb94799b138279d40dff77d": {
          "model_module": "@jupyter-widgets/controls",
          "model_name": "HBoxModel",
          "model_module_version": "1.5.0",
          "state": {
            "_dom_classes": [],
            "_model_module": "@jupyter-widgets/controls",
            "_model_module_version": "1.5.0",
            "_model_name": "HBoxModel",
            "_view_count": null,
            "_view_module": "@jupyter-widgets/controls",
            "_view_module_version": "1.5.0",
            "_view_name": "HBoxView",
            "box_style": "",
            "children": [
              "IPY_MODEL_06858df897d54dcdac6cc212a384c7ef",
              "IPY_MODEL_4f6cace62cbe4c67961fd3a2293da769",
              "IPY_MODEL_ba0f418b31524ea8a7421b002f3f7694"
            ],
            "layout": "IPY_MODEL_306f735ed81f4943bd53e06e4d004147"
          }
        },
        "06858df897d54dcdac6cc212a384c7ef": {
          "model_module": "@jupyter-widgets/controls",
          "model_name": "HTMLModel",
          "model_module_version": "1.5.0",
          "state": {
            "_dom_classes": [],
            "_model_module": "@jupyter-widgets/controls",
            "_model_module_version": "1.5.0",
            "_model_name": "HTMLModel",
            "_view_count": null,
            "_view_module": "@jupyter-widgets/controls",
            "_view_module_version": "1.5.0",
            "_view_name": "HTMLView",
            "description": "",
            "description_tooltip": null,
            "layout": "IPY_MODEL_71894d9d059443dab60370dc2fdfd82c",
            "placeholder": "​",
            "style": "IPY_MODEL_38a4b8b3f70a4d649dec5b0c32940bc0",
            "value": "Downloading (…)solve/main/vocab.txt: 100%"
          }
        },
        "4f6cace62cbe4c67961fd3a2293da769": {
          "model_module": "@jupyter-widgets/controls",
          "model_name": "FloatProgressModel",
          "model_module_version": "1.5.0",
          "state": {
            "_dom_classes": [],
            "_model_module": "@jupyter-widgets/controls",
            "_model_module_version": "1.5.0",
            "_model_name": "FloatProgressModel",
            "_view_count": null,
            "_view_module": "@jupyter-widgets/controls",
            "_view_module_version": "1.5.0",
            "_view_name": "ProgressView",
            "bar_style": "success",
            "description": "",
            "description_tooltip": null,
            "layout": "IPY_MODEL_c459179355d64d8b89c2ee8a88b01e37",
            "max": 231508,
            "min": 0,
            "orientation": "horizontal",
            "style": "IPY_MODEL_49f3dc75c2534d23b0d3b88dc01860f1",
            "value": 231508
          }
        },
        "ba0f418b31524ea8a7421b002f3f7694": {
          "model_module": "@jupyter-widgets/controls",
          "model_name": "HTMLModel",
          "model_module_version": "1.5.0",
          "state": {
            "_dom_classes": [],
            "_model_module": "@jupyter-widgets/controls",
            "_model_module_version": "1.5.0",
            "_model_name": "HTMLModel",
            "_view_count": null,
            "_view_module": "@jupyter-widgets/controls",
            "_view_module_version": "1.5.0",
            "_view_name": "HTMLView",
            "description": "",
            "description_tooltip": null,
            "layout": "IPY_MODEL_d7c940e45be04829b48fa9256607eb1e",
            "placeholder": "​",
            "style": "IPY_MODEL_3d0852511ba94f1b9343b596ce4666c1",
            "value": " 232k/232k [00:00&lt;00:00, 2.32MB/s]"
          }
        },
        "306f735ed81f4943bd53e06e4d004147": {
          "model_module": "@jupyter-widgets/base",
          "model_name": "LayoutModel",
          "model_module_version": "1.2.0",
          "state": {
            "_model_module": "@jupyter-widgets/base",
            "_model_module_version": "1.2.0",
            "_model_name": "LayoutModel",
            "_view_count": null,
            "_view_module": "@jupyter-widgets/base",
            "_view_module_version": "1.2.0",
            "_view_name": "LayoutView",
            "align_content": null,
            "align_items": null,
            "align_self": null,
            "border": null,
            "bottom": null,
            "display": null,
            "flex": null,
            "flex_flow": null,
            "grid_area": null,
            "grid_auto_columns": null,
            "grid_auto_flow": null,
            "grid_auto_rows": null,
            "grid_column": null,
            "grid_gap": null,
            "grid_row": null,
            "grid_template_areas": null,
            "grid_template_columns": null,
            "grid_template_rows": null,
            "height": null,
            "justify_content": null,
            "justify_items": null,
            "left": null,
            "margin": null,
            "max_height": null,
            "max_width": null,
            "min_height": null,
            "min_width": null,
            "object_fit": null,
            "object_position": null,
            "order": null,
            "overflow": null,
            "overflow_x": null,
            "overflow_y": null,
            "padding": null,
            "right": null,
            "top": null,
            "visibility": null,
            "width": null
          }
        },
        "71894d9d059443dab60370dc2fdfd82c": {
          "model_module": "@jupyter-widgets/base",
          "model_name": "LayoutModel",
          "model_module_version": "1.2.0",
          "state": {
            "_model_module": "@jupyter-widgets/base",
            "_model_module_version": "1.2.0",
            "_model_name": "LayoutModel",
            "_view_count": null,
            "_view_module": "@jupyter-widgets/base",
            "_view_module_version": "1.2.0",
            "_view_name": "LayoutView",
            "align_content": null,
            "align_items": null,
            "align_self": null,
            "border": null,
            "bottom": null,
            "display": null,
            "flex": null,
            "flex_flow": null,
            "grid_area": null,
            "grid_auto_columns": null,
            "grid_auto_flow": null,
            "grid_auto_rows": null,
            "grid_column": null,
            "grid_gap": null,
            "grid_row": null,
            "grid_template_areas": null,
            "grid_template_columns": null,
            "grid_template_rows": null,
            "height": null,
            "justify_content": null,
            "justify_items": null,
            "left": null,
            "margin": null,
            "max_height": null,
            "max_width": null,
            "min_height": null,
            "min_width": null,
            "object_fit": null,
            "object_position": null,
            "order": null,
            "overflow": null,
            "overflow_x": null,
            "overflow_y": null,
            "padding": null,
            "right": null,
            "top": null,
            "visibility": null,
            "width": null
          }
        },
        "38a4b8b3f70a4d649dec5b0c32940bc0": {
          "model_module": "@jupyter-widgets/controls",
          "model_name": "DescriptionStyleModel",
          "model_module_version": "1.5.0",
          "state": {
            "_model_module": "@jupyter-widgets/controls",
            "_model_module_version": "1.5.0",
            "_model_name": "DescriptionStyleModel",
            "_view_count": null,
            "_view_module": "@jupyter-widgets/base",
            "_view_module_version": "1.2.0",
            "_view_name": "StyleView",
            "description_width": ""
          }
        },
        "c459179355d64d8b89c2ee8a88b01e37": {
          "model_module": "@jupyter-widgets/base",
          "model_name": "LayoutModel",
          "model_module_version": "1.2.0",
          "state": {
            "_model_module": "@jupyter-widgets/base",
            "_model_module_version": "1.2.0",
            "_model_name": "LayoutModel",
            "_view_count": null,
            "_view_module": "@jupyter-widgets/base",
            "_view_module_version": "1.2.0",
            "_view_name": "LayoutView",
            "align_content": null,
            "align_items": null,
            "align_self": null,
            "border": null,
            "bottom": null,
            "display": null,
            "flex": null,
            "flex_flow": null,
            "grid_area": null,
            "grid_auto_columns": null,
            "grid_auto_flow": null,
            "grid_auto_rows": null,
            "grid_column": null,
            "grid_gap": null,
            "grid_row": null,
            "grid_template_areas": null,
            "grid_template_columns": null,
            "grid_template_rows": null,
            "height": null,
            "justify_content": null,
            "justify_items": null,
            "left": null,
            "margin": null,
            "max_height": null,
            "max_width": null,
            "min_height": null,
            "min_width": null,
            "object_fit": null,
            "object_position": null,
            "order": null,
            "overflow": null,
            "overflow_x": null,
            "overflow_y": null,
            "padding": null,
            "right": null,
            "top": null,
            "visibility": null,
            "width": null
          }
        },
        "49f3dc75c2534d23b0d3b88dc01860f1": {
          "model_module": "@jupyter-widgets/controls",
          "model_name": "ProgressStyleModel",
          "model_module_version": "1.5.0",
          "state": {
            "_model_module": "@jupyter-widgets/controls",
            "_model_module_version": "1.5.0",
            "_model_name": "ProgressStyleModel",
            "_view_count": null,
            "_view_module": "@jupyter-widgets/base",
            "_view_module_version": "1.2.0",
            "_view_name": "StyleView",
            "bar_color": null,
            "description_width": ""
          }
        },
        "d7c940e45be04829b48fa9256607eb1e": {
          "model_module": "@jupyter-widgets/base",
          "model_name": "LayoutModel",
          "model_module_version": "1.2.0",
          "state": {
            "_model_module": "@jupyter-widgets/base",
            "_model_module_version": "1.2.0",
            "_model_name": "LayoutModel",
            "_view_count": null,
            "_view_module": "@jupyter-widgets/base",
            "_view_module_version": "1.2.0",
            "_view_name": "LayoutView",
            "align_content": null,
            "align_items": null,
            "align_self": null,
            "border": null,
            "bottom": null,
            "display": null,
            "flex": null,
            "flex_flow": null,
            "grid_area": null,
            "grid_auto_columns": null,
            "grid_auto_flow": null,
            "grid_auto_rows": null,
            "grid_column": null,
            "grid_gap": null,
            "grid_row": null,
            "grid_template_areas": null,
            "grid_template_columns": null,
            "grid_template_rows": null,
            "height": null,
            "justify_content": null,
            "justify_items": null,
            "left": null,
            "margin": null,
            "max_height": null,
            "max_width": null,
            "min_height": null,
            "min_width": null,
            "object_fit": null,
            "object_position": null,
            "order": null,
            "overflow": null,
            "overflow_x": null,
            "overflow_y": null,
            "padding": null,
            "right": null,
            "top": null,
            "visibility": null,
            "width": null
          }
        },
        "3d0852511ba94f1b9343b596ce4666c1": {
          "model_module": "@jupyter-widgets/controls",
          "model_name": "DescriptionStyleModel",
          "model_module_version": "1.5.0",
          "state": {
            "_model_module": "@jupyter-widgets/controls",
            "_model_module_version": "1.5.0",
            "_model_name": "DescriptionStyleModel",
            "_view_count": null,
            "_view_module": "@jupyter-widgets/base",
            "_view_module_version": "1.2.0",
            "_view_name": "StyleView",
            "description_width": ""
          }
        },
        "d4da6548a7044511b4b7d350e794dfc7": {
          "model_module": "@jupyter-widgets/controls",
          "model_name": "HBoxModel",
          "model_module_version": "1.5.0",
          "state": {
            "_dom_classes": [],
            "_model_module": "@jupyter-widgets/controls",
            "_model_module_version": "1.5.0",
            "_model_name": "HBoxModel",
            "_view_count": null,
            "_view_module": "@jupyter-widgets/controls",
            "_view_module_version": "1.5.0",
            "_view_name": "HBoxView",
            "box_style": "",
            "children": [
              "IPY_MODEL_48f940a01a6c4b95b25b3045fcd73150",
              "IPY_MODEL_0c9b952c036b40b69bd70ddf0b013592",
              "IPY_MODEL_88c554cca6154b20984424d7d76ccf9f"
            ],
            "layout": "IPY_MODEL_890a1ddb09b048b6977a15c26d112e6d"
          }
        },
        "48f940a01a6c4b95b25b3045fcd73150": {
          "model_module": "@jupyter-widgets/controls",
          "model_name": "HTMLModel",
          "model_module_version": "1.5.0",
          "state": {
            "_dom_classes": [],
            "_model_module": "@jupyter-widgets/controls",
            "_model_module_version": "1.5.0",
            "_model_name": "HTMLModel",
            "_view_count": null,
            "_view_module": "@jupyter-widgets/controls",
            "_view_module_version": "1.5.0",
            "_view_name": "HTMLView",
            "description": "",
            "description_tooltip": null,
            "layout": "IPY_MODEL_24d4bfdfbd9b4a6d835fed3cc24cb9c0",
            "placeholder": "​",
            "style": "IPY_MODEL_89d57f512e4c426ab8f1ab3b747990d8",
            "value": "Downloading (…)/main/tokenizer.json: 100%"
          }
        },
        "0c9b952c036b40b69bd70ddf0b013592": {
          "model_module": "@jupyter-widgets/controls",
          "model_name": "FloatProgressModel",
          "model_module_version": "1.5.0",
          "state": {
            "_dom_classes": [],
            "_model_module": "@jupyter-widgets/controls",
            "_model_module_version": "1.5.0",
            "_model_name": "FloatProgressModel",
            "_view_count": null,
            "_view_module": "@jupyter-widgets/controls",
            "_view_module_version": "1.5.0",
            "_view_name": "ProgressView",
            "bar_style": "success",
            "description": "",
            "description_tooltip": null,
            "layout": "IPY_MODEL_f6349620ee1e45518ec369dfa07e8b11",
            "max": 466062,
            "min": 0,
            "orientation": "horizontal",
            "style": "IPY_MODEL_b75e2fcd4c4b413da056bfd69d177320",
            "value": 466062
          }
        },
        "88c554cca6154b20984424d7d76ccf9f": {
          "model_module": "@jupyter-widgets/controls",
          "model_name": "HTMLModel",
          "model_module_version": "1.5.0",
          "state": {
            "_dom_classes": [],
            "_model_module": "@jupyter-widgets/controls",
            "_model_module_version": "1.5.0",
            "_model_name": "HTMLModel",
            "_view_count": null,
            "_view_module": "@jupyter-widgets/controls",
            "_view_module_version": "1.5.0",
            "_view_name": "HTMLView",
            "description": "",
            "description_tooltip": null,
            "layout": "IPY_MODEL_9a8767fe6afb479cbfd9dfaf02788a29",
            "placeholder": "​",
            "style": "IPY_MODEL_5c3b554b6e914e53a049db702fea1ed0",
            "value": " 466k/466k [00:00&lt;00:00, 2.23MB/s]"
          }
        },
        "890a1ddb09b048b6977a15c26d112e6d": {
          "model_module": "@jupyter-widgets/base",
          "model_name": "LayoutModel",
          "model_module_version": "1.2.0",
          "state": {
            "_model_module": "@jupyter-widgets/base",
            "_model_module_version": "1.2.0",
            "_model_name": "LayoutModel",
            "_view_count": null,
            "_view_module": "@jupyter-widgets/base",
            "_view_module_version": "1.2.0",
            "_view_name": "LayoutView",
            "align_content": null,
            "align_items": null,
            "align_self": null,
            "border": null,
            "bottom": null,
            "display": null,
            "flex": null,
            "flex_flow": null,
            "grid_area": null,
            "grid_auto_columns": null,
            "grid_auto_flow": null,
            "grid_auto_rows": null,
            "grid_column": null,
            "grid_gap": null,
            "grid_row": null,
            "grid_template_areas": null,
            "grid_template_columns": null,
            "grid_template_rows": null,
            "height": null,
            "justify_content": null,
            "justify_items": null,
            "left": null,
            "margin": null,
            "max_height": null,
            "max_width": null,
            "min_height": null,
            "min_width": null,
            "object_fit": null,
            "object_position": null,
            "order": null,
            "overflow": null,
            "overflow_x": null,
            "overflow_y": null,
            "padding": null,
            "right": null,
            "top": null,
            "visibility": null,
            "width": null
          }
        },
        "24d4bfdfbd9b4a6d835fed3cc24cb9c0": {
          "model_module": "@jupyter-widgets/base",
          "model_name": "LayoutModel",
          "model_module_version": "1.2.0",
          "state": {
            "_model_module": "@jupyter-widgets/base",
            "_model_module_version": "1.2.0",
            "_model_name": "LayoutModel",
            "_view_count": null,
            "_view_module": "@jupyter-widgets/base",
            "_view_module_version": "1.2.0",
            "_view_name": "LayoutView",
            "align_content": null,
            "align_items": null,
            "align_self": null,
            "border": null,
            "bottom": null,
            "display": null,
            "flex": null,
            "flex_flow": null,
            "grid_area": null,
            "grid_auto_columns": null,
            "grid_auto_flow": null,
            "grid_auto_rows": null,
            "grid_column": null,
            "grid_gap": null,
            "grid_row": null,
            "grid_template_areas": null,
            "grid_template_columns": null,
            "grid_template_rows": null,
            "height": null,
            "justify_content": null,
            "justify_items": null,
            "left": null,
            "margin": null,
            "max_height": null,
            "max_width": null,
            "min_height": null,
            "min_width": null,
            "object_fit": null,
            "object_position": null,
            "order": null,
            "overflow": null,
            "overflow_x": null,
            "overflow_y": null,
            "padding": null,
            "right": null,
            "top": null,
            "visibility": null,
            "width": null
          }
        },
        "89d57f512e4c426ab8f1ab3b747990d8": {
          "model_module": "@jupyter-widgets/controls",
          "model_name": "DescriptionStyleModel",
          "model_module_version": "1.5.0",
          "state": {
            "_model_module": "@jupyter-widgets/controls",
            "_model_module_version": "1.5.0",
            "_model_name": "DescriptionStyleModel",
            "_view_count": null,
            "_view_module": "@jupyter-widgets/base",
            "_view_module_version": "1.2.0",
            "_view_name": "StyleView",
            "description_width": ""
          }
        },
        "f6349620ee1e45518ec369dfa07e8b11": {
          "model_module": "@jupyter-widgets/base",
          "model_name": "LayoutModel",
          "model_module_version": "1.2.0",
          "state": {
            "_model_module": "@jupyter-widgets/base",
            "_model_module_version": "1.2.0",
            "_model_name": "LayoutModel",
            "_view_count": null,
            "_view_module": "@jupyter-widgets/base",
            "_view_module_version": "1.2.0",
            "_view_name": "LayoutView",
            "align_content": null,
            "align_items": null,
            "align_self": null,
            "border": null,
            "bottom": null,
            "display": null,
            "flex": null,
            "flex_flow": null,
            "grid_area": null,
            "grid_auto_columns": null,
            "grid_auto_flow": null,
            "grid_auto_rows": null,
            "grid_column": null,
            "grid_gap": null,
            "grid_row": null,
            "grid_template_areas": null,
            "grid_template_columns": null,
            "grid_template_rows": null,
            "height": null,
            "justify_content": null,
            "justify_items": null,
            "left": null,
            "margin": null,
            "max_height": null,
            "max_width": null,
            "min_height": null,
            "min_width": null,
            "object_fit": null,
            "object_position": null,
            "order": null,
            "overflow": null,
            "overflow_x": null,
            "overflow_y": null,
            "padding": null,
            "right": null,
            "top": null,
            "visibility": null,
            "width": null
          }
        },
        "b75e2fcd4c4b413da056bfd69d177320": {
          "model_module": "@jupyter-widgets/controls",
          "model_name": "ProgressStyleModel",
          "model_module_version": "1.5.0",
          "state": {
            "_model_module": "@jupyter-widgets/controls",
            "_model_module_version": "1.5.0",
            "_model_name": "ProgressStyleModel",
            "_view_count": null,
            "_view_module": "@jupyter-widgets/base",
            "_view_module_version": "1.2.0",
            "_view_name": "StyleView",
            "bar_color": null,
            "description_width": ""
          }
        },
        "9a8767fe6afb479cbfd9dfaf02788a29": {
          "model_module": "@jupyter-widgets/base",
          "model_name": "LayoutModel",
          "model_module_version": "1.2.0",
          "state": {
            "_model_module": "@jupyter-widgets/base",
            "_model_module_version": "1.2.0",
            "_model_name": "LayoutModel",
            "_view_count": null,
            "_view_module": "@jupyter-widgets/base",
            "_view_module_version": "1.2.0",
            "_view_name": "LayoutView",
            "align_content": null,
            "align_items": null,
            "align_self": null,
            "border": null,
            "bottom": null,
            "display": null,
            "flex": null,
            "flex_flow": null,
            "grid_area": null,
            "grid_auto_columns": null,
            "grid_auto_flow": null,
            "grid_auto_rows": null,
            "grid_column": null,
            "grid_gap": null,
            "grid_row": null,
            "grid_template_areas": null,
            "grid_template_columns": null,
            "grid_template_rows": null,
            "height": null,
            "justify_content": null,
            "justify_items": null,
            "left": null,
            "margin": null,
            "max_height": null,
            "max_width": null,
            "min_height": null,
            "min_width": null,
            "object_fit": null,
            "object_position": null,
            "order": null,
            "overflow": null,
            "overflow_x": null,
            "overflow_y": null,
            "padding": null,
            "right": null,
            "top": null,
            "visibility": null,
            "width": null
          }
        },
        "5c3b554b6e914e53a049db702fea1ed0": {
          "model_module": "@jupyter-widgets/controls",
          "model_name": "DescriptionStyleModel",
          "model_module_version": "1.5.0",
          "state": {
            "_model_module": "@jupyter-widgets/controls",
            "_model_module_version": "1.5.0",
            "_model_name": "DescriptionStyleModel",
            "_view_count": null,
            "_view_module": "@jupyter-widgets/base",
            "_view_module_version": "1.2.0",
            "_view_name": "StyleView",
            "description_width": ""
          }
        },
        "5effef35110646d7a40f3c992564b256": {
          "model_module": "@jupyter-widgets/controls",
          "model_name": "HBoxModel",
          "model_module_version": "1.5.0",
          "state": {
            "_dom_classes": [],
            "_model_module": "@jupyter-widgets/controls",
            "_model_module_version": "1.5.0",
            "_model_name": "HBoxModel",
            "_view_count": null,
            "_view_module": "@jupyter-widgets/controls",
            "_view_module_version": "1.5.0",
            "_view_name": "HBoxView",
            "box_style": "",
            "children": [
              "IPY_MODEL_16c8877a89a24fc9baea33c4b6f99228",
              "IPY_MODEL_033f0c74bb1c4af2a0f317ab89299463",
              "IPY_MODEL_cc0b189ef9c143459c3ab66a7a2a4fd0"
            ],
            "layout": "IPY_MODEL_f254fe8d8fce495f83570d7d3b15d192"
          }
        },
        "16c8877a89a24fc9baea33c4b6f99228": {
          "model_module": "@jupyter-widgets/controls",
          "model_name": "HTMLModel",
          "model_module_version": "1.5.0",
          "state": {
            "_dom_classes": [],
            "_model_module": "@jupyter-widgets/controls",
            "_model_module_version": "1.5.0",
            "_model_name": "HTMLModel",
            "_view_count": null,
            "_view_module": "@jupyter-widgets/controls",
            "_view_module_version": "1.5.0",
            "_view_name": "HTMLView",
            "description": "",
            "description_tooltip": null,
            "layout": "IPY_MODEL_7cd4ae4722b74b00a241e9c27b418ad7",
            "placeholder": "​",
            "style": "IPY_MODEL_899d59c0c2de4e889e5d9695dff4cab6",
            "value": "Downloading (…)lve/main/config.json: 100%"
          }
        },
        "033f0c74bb1c4af2a0f317ab89299463": {
          "model_module": "@jupyter-widgets/controls",
          "model_name": "FloatProgressModel",
          "model_module_version": "1.5.0",
          "state": {
            "_dom_classes": [],
            "_model_module": "@jupyter-widgets/controls",
            "_model_module_version": "1.5.0",
            "_model_name": "FloatProgressModel",
            "_view_count": null,
            "_view_module": "@jupyter-widgets/controls",
            "_view_module_version": "1.5.0",
            "_view_name": "ProgressView",
            "bar_style": "success",
            "description": "",
            "description_tooltip": null,
            "layout": "IPY_MODEL_63a505fa9ec94e98874d492abd7fa05c",
            "max": 483,
            "min": 0,
            "orientation": "horizontal",
            "style": "IPY_MODEL_47e9d27379974cb79e48762a5867ad9f",
            "value": 483
          }
        },
        "cc0b189ef9c143459c3ab66a7a2a4fd0": {
          "model_module": "@jupyter-widgets/controls",
          "model_name": "HTMLModel",
          "model_module_version": "1.5.0",
          "state": {
            "_dom_classes": [],
            "_model_module": "@jupyter-widgets/controls",
            "_model_module_version": "1.5.0",
            "_model_name": "HTMLModel",
            "_view_count": null,
            "_view_module": "@jupyter-widgets/controls",
            "_view_module_version": "1.5.0",
            "_view_name": "HTMLView",
            "description": "",
            "description_tooltip": null,
            "layout": "IPY_MODEL_c6ef006a227d42e8b98bc9e31639b6a4",
            "placeholder": "​",
            "style": "IPY_MODEL_b815f64efec940029fa5934422d68471",
            "value": " 483/483 [00:00&lt;00:00, 22.3kB/s]"
          }
        },
        "f254fe8d8fce495f83570d7d3b15d192": {
          "model_module": "@jupyter-widgets/base",
          "model_name": "LayoutModel",
          "model_module_version": "1.2.0",
          "state": {
            "_model_module": "@jupyter-widgets/base",
            "_model_module_version": "1.2.0",
            "_model_name": "LayoutModel",
            "_view_count": null,
            "_view_module": "@jupyter-widgets/base",
            "_view_module_version": "1.2.0",
            "_view_name": "LayoutView",
            "align_content": null,
            "align_items": null,
            "align_self": null,
            "border": null,
            "bottom": null,
            "display": null,
            "flex": null,
            "flex_flow": null,
            "grid_area": null,
            "grid_auto_columns": null,
            "grid_auto_flow": null,
            "grid_auto_rows": null,
            "grid_column": null,
            "grid_gap": null,
            "grid_row": null,
            "grid_template_areas": null,
            "grid_template_columns": null,
            "grid_template_rows": null,
            "height": null,
            "justify_content": null,
            "justify_items": null,
            "left": null,
            "margin": null,
            "max_height": null,
            "max_width": null,
            "min_height": null,
            "min_width": null,
            "object_fit": null,
            "object_position": null,
            "order": null,
            "overflow": null,
            "overflow_x": null,
            "overflow_y": null,
            "padding": null,
            "right": null,
            "top": null,
            "visibility": null,
            "width": null
          }
        },
        "7cd4ae4722b74b00a241e9c27b418ad7": {
          "model_module": "@jupyter-widgets/base",
          "model_name": "LayoutModel",
          "model_module_version": "1.2.0",
          "state": {
            "_model_module": "@jupyter-widgets/base",
            "_model_module_version": "1.2.0",
            "_model_name": "LayoutModel",
            "_view_count": null,
            "_view_module": "@jupyter-widgets/base",
            "_view_module_version": "1.2.0",
            "_view_name": "LayoutView",
            "align_content": null,
            "align_items": null,
            "align_self": null,
            "border": null,
            "bottom": null,
            "display": null,
            "flex": null,
            "flex_flow": null,
            "grid_area": null,
            "grid_auto_columns": null,
            "grid_auto_flow": null,
            "grid_auto_rows": null,
            "grid_column": null,
            "grid_gap": null,
            "grid_row": null,
            "grid_template_areas": null,
            "grid_template_columns": null,
            "grid_template_rows": null,
            "height": null,
            "justify_content": null,
            "justify_items": null,
            "left": null,
            "margin": null,
            "max_height": null,
            "max_width": null,
            "min_height": null,
            "min_width": null,
            "object_fit": null,
            "object_position": null,
            "order": null,
            "overflow": null,
            "overflow_x": null,
            "overflow_y": null,
            "padding": null,
            "right": null,
            "top": null,
            "visibility": null,
            "width": null
          }
        },
        "899d59c0c2de4e889e5d9695dff4cab6": {
          "model_module": "@jupyter-widgets/controls",
          "model_name": "DescriptionStyleModel",
          "model_module_version": "1.5.0",
          "state": {
            "_model_module": "@jupyter-widgets/controls",
            "_model_module_version": "1.5.0",
            "_model_name": "DescriptionStyleModel",
            "_view_count": null,
            "_view_module": "@jupyter-widgets/base",
            "_view_module_version": "1.2.0",
            "_view_name": "StyleView",
            "description_width": ""
          }
        },
        "63a505fa9ec94e98874d492abd7fa05c": {
          "model_module": "@jupyter-widgets/base",
          "model_name": "LayoutModel",
          "model_module_version": "1.2.0",
          "state": {
            "_model_module": "@jupyter-widgets/base",
            "_model_module_version": "1.2.0",
            "_model_name": "LayoutModel",
            "_view_count": null,
            "_view_module": "@jupyter-widgets/base",
            "_view_module_version": "1.2.0",
            "_view_name": "LayoutView",
            "align_content": null,
            "align_items": null,
            "align_self": null,
            "border": null,
            "bottom": null,
            "display": null,
            "flex": null,
            "flex_flow": null,
            "grid_area": null,
            "grid_auto_columns": null,
            "grid_auto_flow": null,
            "grid_auto_rows": null,
            "grid_column": null,
            "grid_gap": null,
            "grid_row": null,
            "grid_template_areas": null,
            "grid_template_columns": null,
            "grid_template_rows": null,
            "height": null,
            "justify_content": null,
            "justify_items": null,
            "left": null,
            "margin": null,
            "max_height": null,
            "max_width": null,
            "min_height": null,
            "min_width": null,
            "object_fit": null,
            "object_position": null,
            "order": null,
            "overflow": null,
            "overflow_x": null,
            "overflow_y": null,
            "padding": null,
            "right": null,
            "top": null,
            "visibility": null,
            "width": null
          }
        },
        "47e9d27379974cb79e48762a5867ad9f": {
          "model_module": "@jupyter-widgets/controls",
          "model_name": "ProgressStyleModel",
          "model_module_version": "1.5.0",
          "state": {
            "_model_module": "@jupyter-widgets/controls",
            "_model_module_version": "1.5.0",
            "_model_name": "ProgressStyleModel",
            "_view_count": null,
            "_view_module": "@jupyter-widgets/base",
            "_view_module_version": "1.2.0",
            "_view_name": "StyleView",
            "bar_color": null,
            "description_width": ""
          }
        },
        "c6ef006a227d42e8b98bc9e31639b6a4": {
          "model_module": "@jupyter-widgets/base",
          "model_name": "LayoutModel",
          "model_module_version": "1.2.0",
          "state": {
            "_model_module": "@jupyter-widgets/base",
            "_model_module_version": "1.2.0",
            "_model_name": "LayoutModel",
            "_view_count": null,
            "_view_module": "@jupyter-widgets/base",
            "_view_module_version": "1.2.0",
            "_view_name": "LayoutView",
            "align_content": null,
            "align_items": null,
            "align_self": null,
            "border": null,
            "bottom": null,
            "display": null,
            "flex": null,
            "flex_flow": null,
            "grid_area": null,
            "grid_auto_columns": null,
            "grid_auto_flow": null,
            "grid_auto_rows": null,
            "grid_column": null,
            "grid_gap": null,
            "grid_row": null,
            "grid_template_areas": null,
            "grid_template_columns": null,
            "grid_template_rows": null,
            "height": null,
            "justify_content": null,
            "justify_items": null,
            "left": null,
            "margin": null,
            "max_height": null,
            "max_width": null,
            "min_height": null,
            "min_width": null,
            "object_fit": null,
            "object_position": null,
            "order": null,
            "overflow": null,
            "overflow_x": null,
            "overflow_y": null,
            "padding": null,
            "right": null,
            "top": null,
            "visibility": null,
            "width": null
          }
        },
        "b815f64efec940029fa5934422d68471": {
          "model_module": "@jupyter-widgets/controls",
          "model_name": "DescriptionStyleModel",
          "model_module_version": "1.5.0",
          "state": {
            "_model_module": "@jupyter-widgets/controls",
            "_model_module_version": "1.5.0",
            "_model_name": "DescriptionStyleModel",
            "_view_count": null,
            "_view_module": "@jupyter-widgets/base",
            "_view_module_version": "1.2.0",
            "_view_name": "StyleView",
            "description_width": ""
          }
        }
      }
    }
  },
  "nbformat": 4,
  "nbformat_minor": 0
}