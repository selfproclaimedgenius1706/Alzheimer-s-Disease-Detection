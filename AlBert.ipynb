{
  "nbformat": 4,
  "nbformat_minor": 0,
  "metadata": {
    "colab": {
      "provenance": [],
      "include_colab_link": true
    },
    "kernelspec": {
      "name": "python3",
      "display_name": "Python 3"
    },
    "language_info": {
      "name": "python"
    },
    "widgets": {
      "application/vnd.jupyter.widget-state+json": {
        "d2ce64c7fa0b42c3ad642ee89fdfa4cd": {
          "model_module": "@jupyter-widgets/controls",
          "model_name": "HBoxModel",
          "model_module_version": "1.5.0",
          "state": {
            "_dom_classes": [],
            "_model_module": "@jupyter-widgets/controls",
            "_model_module_version": "1.5.0",
            "_model_name": "HBoxModel",
            "_view_count": null,
            "_view_module": "@jupyter-widgets/controls",
            "_view_module_version": "1.5.0",
            "_view_name": "HBoxView",
            "box_style": "",
            "children": [
              "IPY_MODEL_3bd5824a823646dd82923d73c3f33bb2",
              "IPY_MODEL_1ba152f0c0d742c6a91b5e1f766d0cec",
              "IPY_MODEL_1dd4e42129304ddf90df66222e6c8989"
            ],
            "layout": "IPY_MODEL_8ee31f3c09a14631a97a5e4540704548"
          }
        },
        "3bd5824a823646dd82923d73c3f33bb2": {
          "model_module": "@jupyter-widgets/controls",
          "model_name": "HTMLModel",
          "model_module_version": "1.5.0",
          "state": {
            "_dom_classes": [],
            "_model_module": "@jupyter-widgets/controls",
            "_model_module_version": "1.5.0",
            "_model_name": "HTMLModel",
            "_view_count": null,
            "_view_module": "@jupyter-widgets/controls",
            "_view_module_version": "1.5.0",
            "_view_name": "HTMLView",
            "description": "",
            "description_tooltip": null,
            "layout": "IPY_MODEL_bb18a03691ed40b191a2ac401c39c7d4",
            "placeholder": "​",
            "style": "IPY_MODEL_0dbfb0854c3b43ccb16856c9dd6f92bd",
            "value": "Downloading (…)ve/main/spiece.model: 100%"
          }
        },
        "1ba152f0c0d742c6a91b5e1f766d0cec": {
          "model_module": "@jupyter-widgets/controls",
          "model_name": "FloatProgressModel",
          "model_module_version": "1.5.0",
          "state": {
            "_dom_classes": [],
            "_model_module": "@jupyter-widgets/controls",
            "_model_module_version": "1.5.0",
            "_model_name": "FloatProgressModel",
            "_view_count": null,
            "_view_module": "@jupyter-widgets/controls",
            "_view_module_version": "1.5.0",
            "_view_name": "ProgressView",
            "bar_style": "success",
            "description": "",
            "description_tooltip": null,
            "layout": "IPY_MODEL_bb711529a1734fdc8ee6f1347fd0b9d3",
            "max": 760289,
            "min": 0,
            "orientation": "horizontal",
            "style": "IPY_MODEL_44f8ac31aff3490587f57ac752a1dfe9",
            "value": 760289
          }
        },
        "1dd4e42129304ddf90df66222e6c8989": {
          "model_module": "@jupyter-widgets/controls",
          "model_name": "HTMLModel",
          "model_module_version": "1.5.0",
          "state": {
            "_dom_classes": [],
            "_model_module": "@jupyter-widgets/controls",
            "_model_module_version": "1.5.0",
            "_model_name": "HTMLModel",
            "_view_count": null,
            "_view_module": "@jupyter-widgets/controls",
            "_view_module_version": "1.5.0",
            "_view_name": "HTMLView",
            "description": "",
            "description_tooltip": null,
            "layout": "IPY_MODEL_f474005527284774a960882635b7733f",
            "placeholder": "​",
            "style": "IPY_MODEL_738b51d4f6004b5a97975a1e63440492",
            "value": " 760k/760k [00:00&lt;00:00, 1.48MB/s]"
          }
        },
        "8ee31f3c09a14631a97a5e4540704548": {
          "model_module": "@jupyter-widgets/base",
          "model_name": "LayoutModel",
          "model_module_version": "1.2.0",
          "state": {
            "_model_module": "@jupyter-widgets/base",
            "_model_module_version": "1.2.0",
            "_model_name": "LayoutModel",
            "_view_count": null,
            "_view_module": "@jupyter-widgets/base",
            "_view_module_version": "1.2.0",
            "_view_name": "LayoutView",
            "align_content": null,
            "align_items": null,
            "align_self": null,
            "border": null,
            "bottom": null,
            "display": null,
            "flex": null,
            "flex_flow": null,
            "grid_area": null,
            "grid_auto_columns": null,
            "grid_auto_flow": null,
            "grid_auto_rows": null,
            "grid_column": null,
            "grid_gap": null,
            "grid_row": null,
            "grid_template_areas": null,
            "grid_template_columns": null,
            "grid_template_rows": null,
            "height": null,
            "justify_content": null,
            "justify_items": null,
            "left": null,
            "margin": null,
            "max_height": null,
            "max_width": null,
            "min_height": null,
            "min_width": null,
            "object_fit": null,
            "object_position": null,
            "order": null,
            "overflow": null,
            "overflow_x": null,
            "overflow_y": null,
            "padding": null,
            "right": null,
            "top": null,
            "visibility": null,
            "width": null
          }
        },
        "bb18a03691ed40b191a2ac401c39c7d4": {
          "model_module": "@jupyter-widgets/base",
          "model_name": "LayoutModel",
          "model_module_version": "1.2.0",
          "state": {
            "_model_module": "@jupyter-widgets/base",
            "_model_module_version": "1.2.0",
            "_model_name": "LayoutModel",
            "_view_count": null,
            "_view_module": "@jupyter-widgets/base",
            "_view_module_version": "1.2.0",
            "_view_name": "LayoutView",
            "align_content": null,
            "align_items": null,
            "align_self": null,
            "border": null,
            "bottom": null,
            "display": null,
            "flex": null,
            "flex_flow": null,
            "grid_area": null,
            "grid_auto_columns": null,
            "grid_auto_flow": null,
            "grid_auto_rows": null,
            "grid_column": null,
            "grid_gap": null,
            "grid_row": null,
            "grid_template_areas": null,
            "grid_template_columns": null,
            "grid_template_rows": null,
            "height": null,
            "justify_content": null,
            "justify_items": null,
            "left": null,
            "margin": null,
            "max_height": null,
            "max_width": null,
            "min_height": null,
            "min_width": null,
            "object_fit": null,
            "object_position": null,
            "order": null,
            "overflow": null,
            "overflow_x": null,
            "overflow_y": null,
            "padding": null,
            "right": null,
            "top": null,
            "visibility": null,
            "width": null
          }
        },
        "0dbfb0854c3b43ccb16856c9dd6f92bd": {
          "model_module": "@jupyter-widgets/controls",
          "model_name": "DescriptionStyleModel",
          "model_module_version": "1.5.0",
          "state": {
            "_model_module": "@jupyter-widgets/controls",
            "_model_module_version": "1.5.0",
            "_model_name": "DescriptionStyleModel",
            "_view_count": null,
            "_view_module": "@jupyter-widgets/base",
            "_view_module_version": "1.2.0",
            "_view_name": "StyleView",
            "description_width": ""
          }
        },
        "bb711529a1734fdc8ee6f1347fd0b9d3": {
          "model_module": "@jupyter-widgets/base",
          "model_name": "LayoutModel",
          "model_module_version": "1.2.0",
          "state": {
            "_model_module": "@jupyter-widgets/base",
            "_model_module_version": "1.2.0",
            "_model_name": "LayoutModel",
            "_view_count": null,
            "_view_module": "@jupyter-widgets/base",
            "_view_module_version": "1.2.0",
            "_view_name": "LayoutView",
            "align_content": null,
            "align_items": null,
            "align_self": null,
            "border": null,
            "bottom": null,
            "display": null,
            "flex": null,
            "flex_flow": null,
            "grid_area": null,
            "grid_auto_columns": null,
            "grid_auto_flow": null,
            "grid_auto_rows": null,
            "grid_column": null,
            "grid_gap": null,
            "grid_row": null,
            "grid_template_areas": null,
            "grid_template_columns": null,
            "grid_template_rows": null,
            "height": null,
            "justify_content": null,
            "justify_items": null,
            "left": null,
            "margin": null,
            "max_height": null,
            "max_width": null,
            "min_height": null,
            "min_width": null,
            "object_fit": null,
            "object_position": null,
            "order": null,
            "overflow": null,
            "overflow_x": null,
            "overflow_y": null,
            "padding": null,
            "right": null,
            "top": null,
            "visibility": null,
            "width": null
          }
        },
        "44f8ac31aff3490587f57ac752a1dfe9": {
          "model_module": "@jupyter-widgets/controls",
          "model_name": "ProgressStyleModel",
          "model_module_version": "1.5.0",
          "state": {
            "_model_module": "@jupyter-widgets/controls",
            "_model_module_version": "1.5.0",
            "_model_name": "ProgressStyleModel",
            "_view_count": null,
            "_view_module": "@jupyter-widgets/base",
            "_view_module_version": "1.2.0",
            "_view_name": "StyleView",
            "bar_color": null,
            "description_width": ""
          }
        },
        "f474005527284774a960882635b7733f": {
          "model_module": "@jupyter-widgets/base",
          "model_name": "LayoutModel",
          "model_module_version": "1.2.0",
          "state": {
            "_model_module": "@jupyter-widgets/base",
            "_model_module_version": "1.2.0",
            "_model_name": "LayoutModel",
            "_view_count": null,
            "_view_module": "@jupyter-widgets/base",
            "_view_module_version": "1.2.0",
            "_view_name": "LayoutView",
            "align_content": null,
            "align_items": null,
            "align_self": null,
            "border": null,
            "bottom": null,
            "display": null,
            "flex": null,
            "flex_flow": null,
            "grid_area": null,
            "grid_auto_columns": null,
            "grid_auto_flow": null,
            "grid_auto_rows": null,
            "grid_column": null,
            "grid_gap": null,
            "grid_row": null,
            "grid_template_areas": null,
            "grid_template_columns": null,
            "grid_template_rows": null,
            "height": null,
            "justify_content": null,
            "justify_items": null,
            "left": null,
            "margin": null,
            "max_height": null,
            "max_width": null,
            "min_height": null,
            "min_width": null,
            "object_fit": null,
            "object_position": null,
            "order": null,
            "overflow": null,
            "overflow_x": null,
            "overflow_y": null,
            "padding": null,
            "right": null,
            "top": null,
            "visibility": null,
            "width": null
          }
        },
        "738b51d4f6004b5a97975a1e63440492": {
          "model_module": "@jupyter-widgets/controls",
          "model_name": "DescriptionStyleModel",
          "model_module_version": "1.5.0",
          "state": {
            "_model_module": "@jupyter-widgets/controls",
            "_model_module_version": "1.5.0",
            "_model_name": "DescriptionStyleModel",
            "_view_count": null,
            "_view_module": "@jupyter-widgets/base",
            "_view_module_version": "1.2.0",
            "_view_name": "StyleView",
            "description_width": ""
          }
        },
        "325248c390c64f9aab19419f7d56923a": {
          "model_module": "@jupyter-widgets/controls",
          "model_name": "HBoxModel",
          "model_module_version": "1.5.0",
          "state": {
            "_dom_classes": [],
            "_model_module": "@jupyter-widgets/controls",
            "_model_module_version": "1.5.0",
            "_model_name": "HBoxModel",
            "_view_count": null,
            "_view_module": "@jupyter-widgets/controls",
            "_view_module_version": "1.5.0",
            "_view_name": "HBoxView",
            "box_style": "",
            "children": [
              "IPY_MODEL_5ace569435a949349e612b0092dd847c",
              "IPY_MODEL_697017c27b7047a69ea0cf19d2bb7b7a",
              "IPY_MODEL_cd647011f1cf4654ac1b17df9e5c7177"
            ],
            "layout": "IPY_MODEL_d0347bc57944469ba29d93f83436c246"
          }
        },
        "5ace569435a949349e612b0092dd847c": {
          "model_module": "@jupyter-widgets/controls",
          "model_name": "HTMLModel",
          "model_module_version": "1.5.0",
          "state": {
            "_dom_classes": [],
            "_model_module": "@jupyter-widgets/controls",
            "_model_module_version": "1.5.0",
            "_model_name": "HTMLModel",
            "_view_count": null,
            "_view_module": "@jupyter-widgets/controls",
            "_view_module_version": "1.5.0",
            "_view_name": "HTMLView",
            "description": "",
            "description_tooltip": null,
            "layout": "IPY_MODEL_6d3b05bb3bb04cdf8ab130a71f9b45f6",
            "placeholder": "​",
            "style": "IPY_MODEL_8a7c206cf52c4e6bb73c3a42285e0973",
            "value": "Downloading (…)/main/tokenizer.json: 100%"
          }
        },
        "697017c27b7047a69ea0cf19d2bb7b7a": {
          "model_module": "@jupyter-widgets/controls",
          "model_name": "FloatProgressModel",
          "model_module_version": "1.5.0",
          "state": {
            "_dom_classes": [],
            "_model_module": "@jupyter-widgets/controls",
            "_model_module_version": "1.5.0",
            "_model_name": "FloatProgressModel",
            "_view_count": null,
            "_view_module": "@jupyter-widgets/controls",
            "_view_module_version": "1.5.0",
            "_view_name": "ProgressView",
            "bar_style": "success",
            "description": "",
            "description_tooltip": null,
            "layout": "IPY_MODEL_515c7172a46f4c5ba11a48de92f9a07d",
            "max": 1312669,
            "min": 0,
            "orientation": "horizontal",
            "style": "IPY_MODEL_bd91fbe45fad4e1a9fd39cc76db94ade",
            "value": 1312669
          }
        },
        "cd647011f1cf4654ac1b17df9e5c7177": {
          "model_module": "@jupyter-widgets/controls",
          "model_name": "HTMLModel",
          "model_module_version": "1.5.0",
          "state": {
            "_dom_classes": [],
            "_model_module": "@jupyter-widgets/controls",
            "_model_module_version": "1.5.0",
            "_model_name": "HTMLModel",
            "_view_count": null,
            "_view_module": "@jupyter-widgets/controls",
            "_view_module_version": "1.5.0",
            "_view_name": "HTMLView",
            "description": "",
            "description_tooltip": null,
            "layout": "IPY_MODEL_0c8fddce473943239c6861f4c6faec08",
            "placeholder": "​",
            "style": "IPY_MODEL_dbcb3337900c47099d0adf03c9b1fb6f",
            "value": " 1.31M/1.31M [00:00&lt;00:00, 2.11MB/s]"
          }
        },
        "d0347bc57944469ba29d93f83436c246": {
          "model_module": "@jupyter-widgets/base",
          "model_name": "LayoutModel",
          "model_module_version": "1.2.0",
          "state": {
            "_model_module": "@jupyter-widgets/base",
            "_model_module_version": "1.2.0",
            "_model_name": "LayoutModel",
            "_view_count": null,
            "_view_module": "@jupyter-widgets/base",
            "_view_module_version": "1.2.0",
            "_view_name": "LayoutView",
            "align_content": null,
            "align_items": null,
            "align_self": null,
            "border": null,
            "bottom": null,
            "display": null,
            "flex": null,
            "flex_flow": null,
            "grid_area": null,
            "grid_auto_columns": null,
            "grid_auto_flow": null,
            "grid_auto_rows": null,
            "grid_column": null,
            "grid_gap": null,
            "grid_row": null,
            "grid_template_areas": null,
            "grid_template_columns": null,
            "grid_template_rows": null,
            "height": null,
            "justify_content": null,
            "justify_items": null,
            "left": null,
            "margin": null,
            "max_height": null,
            "max_width": null,
            "min_height": null,
            "min_width": null,
            "object_fit": null,
            "object_position": null,
            "order": null,
            "overflow": null,
            "overflow_x": null,
            "overflow_y": null,
            "padding": null,
            "right": null,
            "top": null,
            "visibility": null,
            "width": null
          }
        },
        "6d3b05bb3bb04cdf8ab130a71f9b45f6": {
          "model_module": "@jupyter-widgets/base",
          "model_name": "LayoutModel",
          "model_module_version": "1.2.0",
          "state": {
            "_model_module": "@jupyter-widgets/base",
            "_model_module_version": "1.2.0",
            "_model_name": "LayoutModel",
            "_view_count": null,
            "_view_module": "@jupyter-widgets/base",
            "_view_module_version": "1.2.0",
            "_view_name": "LayoutView",
            "align_content": null,
            "align_items": null,
            "align_self": null,
            "border": null,
            "bottom": null,
            "display": null,
            "flex": null,
            "flex_flow": null,
            "grid_area": null,
            "grid_auto_columns": null,
            "grid_auto_flow": null,
            "grid_auto_rows": null,
            "grid_column": null,
            "grid_gap": null,
            "grid_row": null,
            "grid_template_areas": null,
            "grid_template_columns": null,
            "grid_template_rows": null,
            "height": null,
            "justify_content": null,
            "justify_items": null,
            "left": null,
            "margin": null,
            "max_height": null,
            "max_width": null,
            "min_height": null,
            "min_width": null,
            "object_fit": null,
            "object_position": null,
            "order": null,
            "overflow": null,
            "overflow_x": null,
            "overflow_y": null,
            "padding": null,
            "right": null,
            "top": null,
            "visibility": null,
            "width": null
          }
        },
        "8a7c206cf52c4e6bb73c3a42285e0973": {
          "model_module": "@jupyter-widgets/controls",
          "model_name": "DescriptionStyleModel",
          "model_module_version": "1.5.0",
          "state": {
            "_model_module": "@jupyter-widgets/controls",
            "_model_module_version": "1.5.0",
            "_model_name": "DescriptionStyleModel",
            "_view_count": null,
            "_view_module": "@jupyter-widgets/base",
            "_view_module_version": "1.2.0",
            "_view_name": "StyleView",
            "description_width": ""
          }
        },
        "515c7172a46f4c5ba11a48de92f9a07d": {
          "model_module": "@jupyter-widgets/base",
          "model_name": "LayoutModel",
          "model_module_version": "1.2.0",
          "state": {
            "_model_module": "@jupyter-widgets/base",
            "_model_module_version": "1.2.0",
            "_model_name": "LayoutModel",
            "_view_count": null,
            "_view_module": "@jupyter-widgets/base",
            "_view_module_version": "1.2.0",
            "_view_name": "LayoutView",
            "align_content": null,
            "align_items": null,
            "align_self": null,
            "border": null,
            "bottom": null,
            "display": null,
            "flex": null,
            "flex_flow": null,
            "grid_area": null,
            "grid_auto_columns": null,
            "grid_auto_flow": null,
            "grid_auto_rows": null,
            "grid_column": null,
            "grid_gap": null,
            "grid_row": null,
            "grid_template_areas": null,
            "grid_template_columns": null,
            "grid_template_rows": null,
            "height": null,
            "justify_content": null,
            "justify_items": null,
            "left": null,
            "margin": null,
            "max_height": null,
            "max_width": null,
            "min_height": null,
            "min_width": null,
            "object_fit": null,
            "object_position": null,
            "order": null,
            "overflow": null,
            "overflow_x": null,
            "overflow_y": null,
            "padding": null,
            "right": null,
            "top": null,
            "visibility": null,
            "width": null
          }
        },
        "bd91fbe45fad4e1a9fd39cc76db94ade": {
          "model_module": "@jupyter-widgets/controls",
          "model_name": "ProgressStyleModel",
          "model_module_version": "1.5.0",
          "state": {
            "_model_module": "@jupyter-widgets/controls",
            "_model_module_version": "1.5.0",
            "_model_name": "ProgressStyleModel",
            "_view_count": null,
            "_view_module": "@jupyter-widgets/base",
            "_view_module_version": "1.2.0",
            "_view_name": "StyleView",
            "bar_color": null,
            "description_width": ""
          }
        },
        "0c8fddce473943239c6861f4c6faec08": {
          "model_module": "@jupyter-widgets/base",
          "model_name": "LayoutModel",
          "model_module_version": "1.2.0",
          "state": {
            "_model_module": "@jupyter-widgets/base",
            "_model_module_version": "1.2.0",
            "_model_name": "LayoutModel",
            "_view_count": null,
            "_view_module": "@jupyter-widgets/base",
            "_view_module_version": "1.2.0",
            "_view_name": "LayoutView",
            "align_content": null,
            "align_items": null,
            "align_self": null,
            "border": null,
            "bottom": null,
            "display": null,
            "flex": null,
            "flex_flow": null,
            "grid_area": null,
            "grid_auto_columns": null,
            "grid_auto_flow": null,
            "grid_auto_rows": null,
            "grid_column": null,
            "grid_gap": null,
            "grid_row": null,
            "grid_template_areas": null,
            "grid_template_columns": null,
            "grid_template_rows": null,
            "height": null,
            "justify_content": null,
            "justify_items": null,
            "left": null,
            "margin": null,
            "max_height": null,
            "max_width": null,
            "min_height": null,
            "min_width": null,
            "object_fit": null,
            "object_position": null,
            "order": null,
            "overflow": null,
            "overflow_x": null,
            "overflow_y": null,
            "padding": null,
            "right": null,
            "top": null,
            "visibility": null,
            "width": null
          }
        },
        "dbcb3337900c47099d0adf03c9b1fb6f": {
          "model_module": "@jupyter-widgets/controls",
          "model_name": "DescriptionStyleModel",
          "model_module_version": "1.5.0",
          "state": {
            "_model_module": "@jupyter-widgets/controls",
            "_model_module_version": "1.5.0",
            "_model_name": "DescriptionStyleModel",
            "_view_count": null,
            "_view_module": "@jupyter-widgets/base",
            "_view_module_version": "1.2.0",
            "_view_name": "StyleView",
            "description_width": ""
          }
        },
        "e03ba471b5d8402e9f36040ba3677b07": {
          "model_module": "@jupyter-widgets/controls",
          "model_name": "HBoxModel",
          "model_module_version": "1.5.0",
          "state": {
            "_dom_classes": [],
            "_model_module": "@jupyter-widgets/controls",
            "_model_module_version": "1.5.0",
            "_model_name": "HBoxModel",
            "_view_count": null,
            "_view_module": "@jupyter-widgets/controls",
            "_view_module_version": "1.5.0",
            "_view_name": "HBoxView",
            "box_style": "",
            "children": [
              "IPY_MODEL_cf676a268efd47ed9f9fafc86d1b8cc6",
              "IPY_MODEL_ec3ba4936d604a64b9b5842a8282e235",
              "IPY_MODEL_f6f47a8b8c78478b84915f59a1339b4c"
            ],
            "layout": "IPY_MODEL_3936f0a0adf54c529b9483e4280500cb"
          }
        },
        "cf676a268efd47ed9f9fafc86d1b8cc6": {
          "model_module": "@jupyter-widgets/controls",
          "model_name": "HTMLModel",
          "model_module_version": "1.5.0",
          "state": {
            "_dom_classes": [],
            "_model_module": "@jupyter-widgets/controls",
            "_model_module_version": "1.5.0",
            "_model_name": "HTMLModel",
            "_view_count": null,
            "_view_module": "@jupyter-widgets/controls",
            "_view_module_version": "1.5.0",
            "_view_name": "HTMLView",
            "description": "",
            "description_tooltip": null,
            "layout": "IPY_MODEL_c8ff0dc12654407c9e36d64045d3314d",
            "placeholder": "​",
            "style": "IPY_MODEL_c58cd63c54d04fbf94bbae9ee34f4aed",
            "value": "Downloading (…)lve/main/config.json: 100%"
          }
        },
        "ec3ba4936d604a64b9b5842a8282e235": {
          "model_module": "@jupyter-widgets/controls",
          "model_name": "FloatProgressModel",
          "model_module_version": "1.5.0",
          "state": {
            "_dom_classes": [],
            "_model_module": "@jupyter-widgets/controls",
            "_model_module_version": "1.5.0",
            "_model_name": "FloatProgressModel",
            "_view_count": null,
            "_view_module": "@jupyter-widgets/controls",
            "_view_module_version": "1.5.0",
            "_view_name": "ProgressView",
            "bar_style": "success",
            "description": "",
            "description_tooltip": null,
            "layout": "IPY_MODEL_d1cc1bd9ec114324bc98d2b89453d0cd",
            "max": 684,
            "min": 0,
            "orientation": "horizontal",
            "style": "IPY_MODEL_1a3d6eb93aa4469d8a022cb0cde2dfe3",
            "value": 684
          }
        },
        "f6f47a8b8c78478b84915f59a1339b4c": {
          "model_module": "@jupyter-widgets/controls",
          "model_name": "HTMLModel",
          "model_module_version": "1.5.0",
          "state": {
            "_dom_classes": [],
            "_model_module": "@jupyter-widgets/controls",
            "_model_module_version": "1.5.0",
            "_model_name": "HTMLModel",
            "_view_count": null,
            "_view_module": "@jupyter-widgets/controls",
            "_view_module_version": "1.5.0",
            "_view_name": "HTMLView",
            "description": "",
            "description_tooltip": null,
            "layout": "IPY_MODEL_125c6f3e6c1349e2896c780ce72a745b",
            "placeholder": "​",
            "style": "IPY_MODEL_c90013f846a34b2cbcaf57da54c9ebdc",
            "value": " 684/684 [00:00&lt;00:00, 9.34kB/s]"
          }
        },
        "3936f0a0adf54c529b9483e4280500cb": {
          "model_module": "@jupyter-widgets/base",
          "model_name": "LayoutModel",
          "model_module_version": "1.2.0",
          "state": {
            "_model_module": "@jupyter-widgets/base",
            "_model_module_version": "1.2.0",
            "_model_name": "LayoutModel",
            "_view_count": null,
            "_view_module": "@jupyter-widgets/base",
            "_view_module_version": "1.2.0",
            "_view_name": "LayoutView",
            "align_content": null,
            "align_items": null,
            "align_self": null,
            "border": null,
            "bottom": null,
            "display": null,
            "flex": null,
            "flex_flow": null,
            "grid_area": null,
            "grid_auto_columns": null,
            "grid_auto_flow": null,
            "grid_auto_rows": null,
            "grid_column": null,
            "grid_gap": null,
            "grid_row": null,
            "grid_template_areas": null,
            "grid_template_columns": null,
            "grid_template_rows": null,
            "height": null,
            "justify_content": null,
            "justify_items": null,
            "left": null,
            "margin": null,
            "max_height": null,
            "max_width": null,
            "min_height": null,
            "min_width": null,
            "object_fit": null,
            "object_position": null,
            "order": null,
            "overflow": null,
            "overflow_x": null,
            "overflow_y": null,
            "padding": null,
            "right": null,
            "top": null,
            "visibility": null,
            "width": null
          }
        },
        "c8ff0dc12654407c9e36d64045d3314d": {
          "model_module": "@jupyter-widgets/base",
          "model_name": "LayoutModel",
          "model_module_version": "1.2.0",
          "state": {
            "_model_module": "@jupyter-widgets/base",
            "_model_module_version": "1.2.0",
            "_model_name": "LayoutModel",
            "_view_count": null,
            "_view_module": "@jupyter-widgets/base",
            "_view_module_version": "1.2.0",
            "_view_name": "LayoutView",
            "align_content": null,
            "align_items": null,
            "align_self": null,
            "border": null,
            "bottom": null,
            "display": null,
            "flex": null,
            "flex_flow": null,
            "grid_area": null,
            "grid_auto_columns": null,
            "grid_auto_flow": null,
            "grid_auto_rows": null,
            "grid_column": null,
            "grid_gap": null,
            "grid_row": null,
            "grid_template_areas": null,
            "grid_template_columns": null,
            "grid_template_rows": null,
            "height": null,
            "justify_content": null,
            "justify_items": null,
            "left": null,
            "margin": null,
            "max_height": null,
            "max_width": null,
            "min_height": null,
            "min_width": null,
            "object_fit": null,
            "object_position": null,
            "order": null,
            "overflow": null,
            "overflow_x": null,
            "overflow_y": null,
            "padding": null,
            "right": null,
            "top": null,
            "visibility": null,
            "width": null
          }
        },
        "c58cd63c54d04fbf94bbae9ee34f4aed": {
          "model_module": "@jupyter-widgets/controls",
          "model_name": "DescriptionStyleModel",
          "model_module_version": "1.5.0",
          "state": {
            "_model_module": "@jupyter-widgets/controls",
            "_model_module_version": "1.5.0",
            "_model_name": "DescriptionStyleModel",
            "_view_count": null,
            "_view_module": "@jupyter-widgets/base",
            "_view_module_version": "1.2.0",
            "_view_name": "StyleView",
            "description_width": ""
          }
        },
        "d1cc1bd9ec114324bc98d2b89453d0cd": {
          "model_module": "@jupyter-widgets/base",
          "model_name": "LayoutModel",
          "model_module_version": "1.2.0",
          "state": {
            "_model_module": "@jupyter-widgets/base",
            "_model_module_version": "1.2.0",
            "_model_name": "LayoutModel",
            "_view_count": null,
            "_view_module": "@jupyter-widgets/base",
            "_view_module_version": "1.2.0",
            "_view_name": "LayoutView",
            "align_content": null,
            "align_items": null,
            "align_self": null,
            "border": null,
            "bottom": null,
            "display": null,
            "flex": null,
            "flex_flow": null,
            "grid_area": null,
            "grid_auto_columns": null,
            "grid_auto_flow": null,
            "grid_auto_rows": null,
            "grid_column": null,
            "grid_gap": null,
            "grid_row": null,
            "grid_template_areas": null,
            "grid_template_columns": null,
            "grid_template_rows": null,
            "height": null,
            "justify_content": null,
            "justify_items": null,
            "left": null,
            "margin": null,
            "max_height": null,
            "max_width": null,
            "min_height": null,
            "min_width": null,
            "object_fit": null,
            "object_position": null,
            "order": null,
            "overflow": null,
            "overflow_x": null,
            "overflow_y": null,
            "padding": null,
            "right": null,
            "top": null,
            "visibility": null,
            "width": null
          }
        },
        "1a3d6eb93aa4469d8a022cb0cde2dfe3": {
          "model_module": "@jupyter-widgets/controls",
          "model_name": "ProgressStyleModel",
          "model_module_version": "1.5.0",
          "state": {
            "_model_module": "@jupyter-widgets/controls",
            "_model_module_version": "1.5.0",
            "_model_name": "ProgressStyleModel",
            "_view_count": null,
            "_view_module": "@jupyter-widgets/base",
            "_view_module_version": "1.2.0",
            "_view_name": "StyleView",
            "bar_color": null,
            "description_width": ""
          }
        },
        "125c6f3e6c1349e2896c780ce72a745b": {
          "model_module": "@jupyter-widgets/base",
          "model_name": "LayoutModel",
          "model_module_version": "1.2.0",
          "state": {
            "_model_module": "@jupyter-widgets/base",
            "_model_module_version": "1.2.0",
            "_model_name": "LayoutModel",
            "_view_count": null,
            "_view_module": "@jupyter-widgets/base",
            "_view_module_version": "1.2.0",
            "_view_name": "LayoutView",
            "align_content": null,
            "align_items": null,
            "align_self": null,
            "border": null,
            "bottom": null,
            "display": null,
            "flex": null,
            "flex_flow": null,
            "grid_area": null,
            "grid_auto_columns": null,
            "grid_auto_flow": null,
            "grid_auto_rows": null,
            "grid_column": null,
            "grid_gap": null,
            "grid_row": null,
            "grid_template_areas": null,
            "grid_template_columns": null,
            "grid_template_rows": null,
            "height": null,
            "justify_content": null,
            "justify_items": null,
            "left": null,
            "margin": null,
            "max_height": null,
            "max_width": null,
            "min_height": null,
            "min_width": null,
            "object_fit": null,
            "object_position": null,
            "order": null,
            "overflow": null,
            "overflow_x": null,
            "overflow_y": null,
            "padding": null,
            "right": null,
            "top": null,
            "visibility": null,
            "width": null
          }
        },
        "c90013f846a34b2cbcaf57da54c9ebdc": {
          "model_module": "@jupyter-widgets/controls",
          "model_name": "DescriptionStyleModel",
          "model_module_version": "1.5.0",
          "state": {
            "_model_module": "@jupyter-widgets/controls",
            "_model_module_version": "1.5.0",
            "_model_name": "DescriptionStyleModel",
            "_view_count": null,
            "_view_module": "@jupyter-widgets/base",
            "_view_module_version": "1.2.0",
            "_view_name": "StyleView",
            "description_width": ""
          }
        }
      }
    }
  },
  "cells": [
    {
      "cell_type": "markdown",
      "metadata": {
        "id": "view-in-github",
        "colab_type": "text"
      },
      "source": [
        "<a href=\"https://colab.research.google.com/github/selfproclaimedgenius1706/Alzheimer-s-Disease-Detection/blob/main/AlBert.ipynb\" target=\"_parent\"><img src=\"https://colab.research.google.com/assets/colab-badge.svg\" alt=\"Open In Colab\"/></a>"
      ]
    },
    {
      "cell_type": "code",
      "execution_count": null,
      "metadata": {
        "id": "rTDS2y4urp_v"
      },
      "outputs": [],
      "source": [
        "%%capture\n",
        "!python3 -m venv venv\n",
        "!source venv/bin/activate\n",
        "!pip install tensorflow transformers\n"
      ]
    },
    {
      "cell_type": "code",
      "source": [
        "import pandas as pd\n",
        "import tensorflow as tf\n",
        "from transformers import AlbertTokenizer, TFAlbertForSequenceClassification"
      ],
      "metadata": {
        "id": "RTF9C-i0r233"
      },
      "execution_count": null,
      "outputs": []
    },
    {
      "cell_type": "markdown",
      "source": [
        "# TOKENIZATION !!!"
      ],
      "metadata": {
        "id": "5PGnUxcy_TSq"
      }
    },
    {
      "cell_type": "code",
      "source": [
        "df = pd.read_csv('dataToPadding.csv')\n",
        "df = df[~df['Seri'].isin(['s004','s007','s024', 's096','s084','s085'])]"
      ],
      "metadata": {
        "id": "i81iVdhTrxqy"
      },
      "execution_count": null,
      "outputs": []
    },
    {
      "cell_type": "code",
      "source": [
        "def construct_encodings(data, tokenizer, max_len, truncation=True, padding=True):\n",
        "    encodings = tokenizer(data, max_length=max_len, truncation=truncation, padding=padding)\n",
        "\n",
        "    # Warning khi có 1 thằng nào dài hơn max length\n",
        "    for idx, input_ids in enumerate(encodings['input_ids']):\n",
        "        if len(input_ids) > max_len:\n",
        "            print(f\"Warning: Sequence at index {idx} is longer than {max_len} tokens.\")\n",
        "\n",
        "    return encodings\n"
      ],
      "metadata": {
        "id": "i4g5XL-9r8a1"
      },
      "execution_count": null,
      "outputs": []
    },
    {
      "cell_type": "code",
      "source": [
        "!pip install sentencepiece\n",
        "from transformers import AlbertTokenizer\n",
        "\n",
        "x = df['PreprocessedContent'].tolist()\n",
        "y = df['Label'].tolist()\n",
        "\n",
        "tkzr = AlbertTokenizer.from_pretrained(\"albert-base-v2\")\n",
        "encodings = construct_encodings(x, tokenizer=tkzr, max_len=20)\n"
      ],
      "metadata": {
        "id": "O5uTlGYBsAsd",
        "colab": {
          "base_uri": "https://localhost:8080/",
          "height": 130,
          "referenced_widgets": [
            "d2ce64c7fa0b42c3ad642ee89fdfa4cd",
            "3bd5824a823646dd82923d73c3f33bb2",
            "1ba152f0c0d742c6a91b5e1f766d0cec",
            "1dd4e42129304ddf90df66222e6c8989",
            "8ee31f3c09a14631a97a5e4540704548",
            "bb18a03691ed40b191a2ac401c39c7d4",
            "0dbfb0854c3b43ccb16856c9dd6f92bd",
            "bb711529a1734fdc8ee6f1347fd0b9d3",
            "44f8ac31aff3490587f57ac752a1dfe9",
            "f474005527284774a960882635b7733f",
            "738b51d4f6004b5a97975a1e63440492",
            "325248c390c64f9aab19419f7d56923a",
            "5ace569435a949349e612b0092dd847c",
            "697017c27b7047a69ea0cf19d2bb7b7a",
            "cd647011f1cf4654ac1b17df9e5c7177",
            "d0347bc57944469ba29d93f83436c246",
            "6d3b05bb3bb04cdf8ab130a71f9b45f6",
            "8a7c206cf52c4e6bb73c3a42285e0973",
            "515c7172a46f4c5ba11a48de92f9a07d",
            "bd91fbe45fad4e1a9fd39cc76db94ade",
            "0c8fddce473943239c6861f4c6faec08",
            "dbcb3337900c47099d0adf03c9b1fb6f",
            "e03ba471b5d8402e9f36040ba3677b07",
            "cf676a268efd47ed9f9fafc86d1b8cc6",
            "ec3ba4936d604a64b9b5842a8282e235",
            "f6f47a8b8c78478b84915f59a1339b4c",
            "3936f0a0adf54c529b9483e4280500cb",
            "c8ff0dc12654407c9e36d64045d3314d",
            "c58cd63c54d04fbf94bbae9ee34f4aed",
            "d1cc1bd9ec114324bc98d2b89453d0cd",
            "1a3d6eb93aa4469d8a022cb0cde2dfe3",
            "125c6f3e6c1349e2896c780ce72a745b",
            "c90013f846a34b2cbcaf57da54c9ebdc"
          ]
        },
        "outputId": "01ce2c3d-6728-4b01-f254-f3950d75281c"
      },
      "execution_count": null,
      "outputs": [
        {
          "output_type": "stream",
          "name": "stdout",
          "text": [
            "Requirement already satisfied: sentencepiece in /usr/local/lib/python3.10/dist-packages (0.1.99)\n"
          ]
        },
        {
          "output_type": "display_data",
          "data": {
            "text/plain": [
              "Downloading (…)ve/main/spiece.model:   0%|          | 0.00/760k [00:00<?, ?B/s]"
            ],
            "application/vnd.jupyter.widget-view+json": {
              "version_major": 2,
              "version_minor": 0,
              "model_id": "d2ce64c7fa0b42c3ad642ee89fdfa4cd"
            }
          },
          "metadata": {}
        },
        {
          "output_type": "display_data",
          "data": {
            "text/plain": [
              "Downloading (…)/main/tokenizer.json:   0%|          | 0.00/1.31M [00:00<?, ?B/s]"
            ],
            "application/vnd.jupyter.widget-view+json": {
              "version_major": 2,
              "version_minor": 0,
              "model_id": "325248c390c64f9aab19419f7d56923a"
            }
          },
          "metadata": {}
        },
        {
          "output_type": "display_data",
          "data": {
            "text/plain": [
              "Downloading (…)lve/main/config.json:   0%|          | 0.00/684 [00:00<?, ?B/s]"
            ],
            "application/vnd.jupyter.widget-view+json": {
              "version_major": 2,
              "version_minor": 0,
              "model_id": "e03ba471b5d8402e9f36040ba3677b07"
            }
          },
          "metadata": {}
        }
      ]
    },
    {
      "cell_type": "code",
      "source": [
        "def construct_tfdataset(encodings, y=None):\n",
        "    if y:\n",
        "        return tf.data.Dataset.from_tensor_slices((dict(encodings),y))\n",
        "    else:\n",
        "        # this case is used when making predictions on unseen samples after training\n",
        "        return tf.data.Dataset.from_tensor_slices(dict(encodings))\n",
        "\n",
        "tfdataset = construct_tfdataset(encodings, y)"
      ],
      "metadata": {
        "id": "jybSW4F1tI9U"
      },
      "execution_count": null,
      "outputs": []
    },
    {
      "cell_type": "code",
      "source": [
        "#In thử ra xem cho zui\n",
        "print(encodings['input_ids'][0])\n",
        "print(encodings['attention_mask'][0])"
      ],
      "metadata": {
        "colab": {
          "base_uri": "https://localhost:8080/"
        },
        "id": "q7xjIBDY0nw9",
        "outputId": "58d30142-b131-4158-8634-e895f399a11b"
      },
      "execution_count": null,
      "outputs": [
        {
          "output_type": "stream",
          "name": "stdout",
          "text": [
            "[2, 134, 80, 18, 21, 449, 1288, 80, 10863, 10863, 14877, 14, 11217, 17, 10863, 14, 1936, 368, 17, 3]\n",
            "[1, 1, 1, 1, 1, 1, 1, 1, 1, 1, 1, 1, 1, 1, 1, 1, 1, 1, 1, 1]\n"
          ]
        }
      ]
    },
    {
      "cell_type": "markdown",
      "source": [
        "## APPROACH 1 : USING HIGH-LEVEL API TO TRAIN + SPLIT 7-3 (TRAIN-TEST)"
      ],
      "metadata": {
        "id": "8WuK3cQ_7slj"
      }
    },
    {
      "cell_type": "code",
      "source": [
        "#70% for train, 30% for test\n",
        "TEST_SPLIT = 0.3\n",
        "BATCH_SIZE = 4\n",
        "train_size = int(len(x) * (1-TEST_SPLIT))\n",
        "\n",
        "tfdataset = tfdataset.shuffle(len(x))\n",
        "tfdataset_train = tfdataset.take(train_size)\n",
        "tfdataset_test = tfdataset.skip(train_size)\n",
        "\n",
        "tfdataset_train = tfdataset_train.batch(BATCH_SIZE)\n",
        "tfdataset_test = tfdataset_test.batch(BATCH_SIZE)"
      ],
      "metadata": {
        "id": "1ZHr_W6jtMgl"
      },
      "execution_count": null,
      "outputs": []
    },
    {
      "cell_type": "code",
      "source": [
        "from sklearn.model_selection import KFold\n",
        "from tensorflow.keras.optimizers import Adam\n",
        "import numpy as np\n",
        "from tensorflow.keras import activations, optimizers, losses\n"
      ],
      "metadata": {
        "id": "zU9t5rB0eBRM"
      },
      "execution_count": null,
      "outputs": []
    },
    {
      "cell_type": "code",
      "source": [
        "N_EPOCHS = 10\n",
        "MODEL_NAME = 'albert-base-v2'\n",
        "model = TFAlbertForSequenceClassification.from_pretrained(MODEL_NAME)\n",
        "optimizer = optimizers.Adam(learning_rate=1e-5)\n",
        "loss_fn = tf.keras.losses.SparseCategoricalCrossentropy(from_logits=True)\n",
        "\n",
        "model.compile(optimizer=optimizer, loss=loss_fn, metrics=['accuracy'])\n",
        "model.fit(tfdataset_train, batch_size=BATCH_SIZE, epochs=N_EPOCHS)"
      ],
      "metadata": {
        "colab": {
          "base_uri": "https://localhost:8080/"
        },
        "id": "novQxfrw754S",
        "outputId": "21de1fb7-d7f5-45f5-e6c0-523625ffff5e"
      },
      "execution_count": null,
      "outputs": [
        {
          "metadata": {
            "tags": null
          },
          "name": "stderr",
          "output_type": "stream",
          "text": [
            "All PyTorch model weights were used when initializing TFAlbertForSequenceClassification.\n",
            "\n",
            "Some weights or buffers of the TF 2.0 model TFAlbertForSequenceClassification were not initialized from the PyTorch model and are newly initialized: ['classifier.weight', 'classifier.bias']\n",
            "You should probably TRAIN this model on a down-stream task to be able to use it for predictions and inference.\n"
          ]
        },
        {
          "metadata": {
            "tags": null
          },
          "name": "stdout",
          "output_type": "stream",
          "text": [
            "Epoch 1/10\n",
            "18/18 [==============================] - 44s 1s/step - loss: 0.7140 - accuracy: 0.5139\n",
            "Epoch 2/10\n",
            "18/18 [==============================] - 23s 1s/step - loss: 0.7150 - accuracy: 0.5000\n",
            "Epoch 3/10\n",
            "18/18 [==============================] - 24s 1s/step - loss: 0.6573 - accuracy: 0.6667\n",
            "Epoch 4/10\n",
            "18/18 [==============================] - 24s 1s/step - loss: 0.6042 - accuracy: 0.6806\n",
            "Epoch 5/10\n",
            "18/18 [==============================] - 23s 1s/step - loss: 0.4941 - accuracy: 0.8056\n",
            "Epoch 6/10\n",
            "18/18 [==============================] - 24s 1s/step - loss: 0.4098 - accuracy: 0.8194\n",
            "Epoch 7/10\n",
            "18/18 [==============================] - 24s 1s/step - loss: 0.2424 - accuracy: 0.9583\n",
            "Epoch 8/10\n",
            "18/18 [==============================] - 24s 1s/step - loss: 0.2201 - accuracy: 0.9444\n",
            "Epoch 9/10\n",
            "18/18 [==============================] - 23s 1s/step - loss: 0.1554 - accuracy: 0.9722\n",
            "Epoch 10/10\n",
            "18/18 [==============================] - 23s 1s/step - loss: 0.2343 - accuracy: 0.9167\n"
          ]
        },
        {
          "output_type": "execute_result",
          "data": {
            "text/plain": [
              "<keras.src.callbacks.History at 0x7c924d4d1b70>"
            ]
          },
          "metadata": {},
          "execution_count": 19
        }
      ]
    },
    {
      "cell_type": "code",
      "source": [
        "#Check accuracy\n",
        "benchmarks = model.evaluate(tfdataset_test, return_dict=True, batch_size=BATCH_SIZE)\n",
        "accuracy = benchmarks['accuracy']\n",
        "print(f'The accuracy of the model is {round(accuracy*100)}%')"
      ],
      "metadata": {
        "id": "UjN7qH91q8zN",
        "colab": {
          "base_uri": "https://localhost:8080/"
        },
        "outputId": "3c75c543-c608-4d93-e4cc-098f4dae0bbc"
      },
      "execution_count": null,
      "outputs": [
        {
          "output_type": "stream",
          "name": "stdout",
          "text": [
            "8/8 [==============================] - 12s 760ms/step - loss: 0.1120 - accuracy: 0.9677\n",
            "The accuracy of the model is 97%\n"
          ]
        }
      ]
    },
    {
      "cell_type": "code",
      "source": [
        "import torch\n",
        "testDF = pd.read_csv('preprocessed_data2020.csv')\n",
        "test_text = testDF['Preprocessed_Content']\n",
        "test_label = testDF['label']\n",
        "\n",
        "# Print the shape of the extracted arrays\n",
        "print(\"test_text shape:\", test_text.shape)\n",
        "print(\"test_label shape:\", test_label.shape)\n",
        "\n",
        "tokens_test = tkzr.batch_encode_plus(\n",
        "    test_text.tolist(),\n",
        "    max_length = 40,\n",
        "    pad_to_max_length=True,\n",
        "    truncation=True\n",
        ")\n",
        "\n",
        "test_seq = torch.tensor(tokens_test['input_ids'])\n",
        "test_mask = torch.tensor(tokens_test['attention_mask'])\n",
        "test_y = torch.tensor(test_label.tolist())"
      ],
      "metadata": {
        "colab": {
          "base_uri": "https://localhost:8080/"
        },
        "id": "HCp9E_yN8cCR",
        "outputId": "127c3d5b-38fc-4bef-d664-b70b9e069666"
      },
      "execution_count": null,
      "outputs": [
        {
          "output_type": "stream",
          "name": "stdout",
          "text": [
            "test_text shape: (48,)\n",
            "test_label shape: (48,)\n"
          ]
        },
        {
          "output_type": "stream",
          "name": "stderr",
          "text": [
            "/usr/local/lib/python3.10/dist-packages/transformers/tokenization_utils_base.py:2622: FutureWarning: The `pad_to_max_length` argument is deprecated and will be removed in a future version, use `padding=True` or `padding='longest'` to pad to the longest sequence in the batch, or use `padding='max_length'` to pad to a max length. In this case, you can give a specific length with `max_length` (e.g. `max_length=45`) or leave max_length to None to pad to the maximal input size of the model (e.g. 512 for Bert).\n",
            "  warnings.warn(\n"
          ]
        }
      ]
    },
    {
      "cell_type": "code",
      "source": [
        "from sklearn.metrics import classification_report\n",
        "import tensorflow as tf\n",
        "\n",
        "# Convert PyTorch tensors to TensorFlow tensors\n",
        "test_seq_tf = tf.convert_to_tensor(test_seq.numpy())\n",
        "test_mask_tf = tf.convert_to_tensor(test_mask.numpy())\n",
        "\n",
        "# Use tf.config.list_physical_devices to check for GPU availability\n",
        "gpu_available = tf.config.list_physical_devices('GPU')\n",
        "\n",
        "# Use GPU if available, otherwise use CPU\n",
        "device = \"/GPU:0\" if gpu_available else \"/CPU:0\"\n",
        "\n",
        "with tf.device(device):\n",
        "    preds = model([test_seq_tf, test_mask_tf])\n",
        "\n",
        "# Access the logits and convert them to a NumPy array\n",
        "logits = preds.logits.numpy()\n",
        "preds = np.argmax(logits, axis=1)\n",
        "print(classification_report(test_y, preds))\n"
      ],
      "metadata": {
        "colab": {
          "base_uri": "https://localhost:8080/"
        },
        "id": "O0W_HOlx8k77",
        "outputId": "b8676c6a-3a61-4cd3-f474-36b7c21efa01"
      },
      "execution_count": null,
      "outputs": [
        {
          "output_type": "stream",
          "name": "stdout",
          "text": [
            "              precision    recall  f1-score   support\n",
            "\n",
            "           0       0.70      0.88      0.78        24\n",
            "           1       0.83      0.62      0.71        24\n",
            "\n",
            "    accuracy                           0.75        48\n",
            "   macro avg       0.77      0.75      0.75        48\n",
            "weighted avg       0.77      0.75      0.75        48\n",
            "\n"
          ]
        }
      ]
    },
    {
      "cell_type": "code",
      "source": [
        "from google.colab import drive\n",
        "drive.mount('/content/drive')\n",
        "\n",
        "\n",
        "model_directory = \"/content/drive/MyDrive/AlBERT/Accuracy77\"\n",
        "model.save(model_directory)\n"
      ],
      "metadata": {
        "colab": {
          "base_uri": "https://localhost:8080/"
        },
        "id": "QotgV-NefhJy",
        "outputId": "e7f1c39b-6590-43ab-85c4-dda8dab7b936"
      },
      "execution_count": null,
      "outputs": [
        {
          "output_type": "stream",
          "name": "stdout",
          "text": [
            "Drive already mounted at /content/drive; to attempt to forcibly remount, call drive.mount(\"/content/drive\", force_remount=True).\n"
          ]
        }
      ]
    },
    {
      "cell_type": "markdown",
      "source": [
        "##APPROACH 2 : TRAINING LOOP + USING K-FOLD CROSS VALIDATION"
      ],
      "metadata": {
        "id": "U8Dge4928a2W"
      }
    },
    {
      "cell_type": "code",
      "source": [
        "# Initialize KFold cross-validator\n",
        "N_FOLDS = 5\n",
        "kf = KFold(n_splits=N_FOLDS, shuffle=True, random_state=42)\n",
        "BATCH_SIZE = 16\n",
        "N_EPOCHS = 5\n",
        "\n",
        "# Initialize lists to store metrics across folds\n",
        "fold_train_losses = []\n",
        "fold_train_accuracies = []\n",
        "fold_val_losses = []\n",
        "fold_val_accuracies = []\n",
        "\n",
        "# Convert x and y to NumPy arrays\n",
        "x = np.array(encodings['input_ids'])\n",
        "y = np.array(y)\n",
        "\n",
        "#TRAINING LOOP\n",
        "for fold, (train_idx, val_idx) in enumerate(kf.split(x)):\n",
        "    print(f\"Fold {fold + 1}/{N_FOLDS}\")\n",
        "\n",
        "    x_train, y_train = x[train_idx], y[train_idx]\n",
        "    x_val, y_val = x[val_idx], y[val_idx]\n",
        "\n",
        "    # Create and compile the model\n",
        "    model = TFAlbertForSequenceClassification.from_pretrained(MODEL_NAME)\n",
        "    optimizer = Adam(learning_rate=0.0002)\n",
        "    model.compile(optimizer=optimizer, loss='sparse_categorical_crossentropy' , metrics=['accuracy'])\n",
        "\n",
        "    # Create TensorFlow Datasets\n",
        "    tfdataset_train = tf.data.Dataset.from_tensor_slices((x_train, y_train))\n",
        "    tfdataset_train = tfdataset_train.shuffle(len(x_train)).batch(BATCH_SIZE)\n",
        "\n",
        "    tfdataset_val = tf.data.Dataset.from_tensor_slices((x_val, y_val))\n",
        "    tfdataset_val = tfdataset_val.batch(BATCH_SIZE)\n",
        "\n",
        "    # Build the optimizer with the list of trainable variables\n",
        "    optimizer.build(model.trainable_variables)\n",
        "\n",
        "    # Train the model\n",
        "    history = model.fit(tfdataset_train, epochs=N_EPOCHS, validation_data=tfdataset_val)\n",
        "\n",
        "    # Store metrics for this fold\n",
        "    fold_train_losses.append(history.history['loss'])\n",
        "    fold_train_accuracies.append(history.history['accuracy'])\n",
        "    fold_val_losses.append(history.history['val_loss'])\n",
        "    fold_val_accuracies.append(history.history['val_accuracy'])\n",
        "\n",
        "# Calculate average metrics across all folds\n",
        "avg_train_loss = np.mean(fold_train_losses, axis=0)\n",
        "avg_train_accuracy = np.mean(fold_train_accuracies, axis=0)\n",
        "avg_val_loss = np.mean(fold_val_losses, axis=0)\n",
        "avg_val_accuracy = np.mean(fold_val_accuracies, axis=0)\n",
        "\n",
        "print(\"Average Training Loss:\", avg_train_loss)\n",
        "print(\"Average Training Accuracy:\", avg_train_accuracy)\n",
        "print(\"Average Validation Loss:\", avg_val_loss)\n",
        "print(\"Average Validation Accuracy:\", avg_val_accuracy)\n",
        "\n"
      ],
      "metadata": {
        "id": "xebLM0FMtOyK",
        "colab": {
          "base_uri": "https://localhost:8080/"
        },
        "outputId": "60eca147-c8ff-45cc-b1f2-6423e16134b2"
      },
      "execution_count": null,
      "outputs": [
        {
          "output_type": "stream",
          "name": "stdout",
          "text": [
            "Fold 1/5\n"
          ]
        },
        {
          "output_type": "stream",
          "name": "stderr",
          "text": [
            "All PyTorch model weights were used when initializing TFAlbertForSequenceClassification.\n",
            "\n",
            "Some weights or buffers of the TF 2.0 model TFAlbertForSequenceClassification were not initialized from the PyTorch model and are newly initialized: ['classifier.weight', 'classifier.bias']\n",
            "You should probably TRAIN this model on a down-stream task to be able to use it for predictions and inference.\n"
          ]
        },
        {
          "output_type": "stream",
          "name": "stdout",
          "text": [
            "Epoch 1/5\n",
            "6/6 [==============================] - 54s 6s/step - loss: 1.2474 - accuracy: 0.4756 - val_loss: 0.6931 - val_accuracy: 0.5714\n",
            "Epoch 2/5\n",
            "6/6 [==============================] - 29s 5s/step - loss: 0.6931 - accuracy: 0.5366 - val_loss: 0.6931 - val_accuracy: 0.3333\n",
            "Epoch 3/5\n",
            "6/6 [==============================] - 24s 4s/step - loss: 0.6931 - accuracy: 0.5488 - val_loss: 0.6931 - val_accuracy: 0.3810\n",
            "Epoch 4/5\n",
            "6/6 [==============================] - 24s 4s/step - loss: 0.6931 - accuracy: 0.5366 - val_loss: 0.6931 - val_accuracy: 0.3810\n",
            "Epoch 5/5\n",
            "6/6 [==============================] - 27s 4s/step - loss: 0.6931 - accuracy: 0.5122 - val_loss: 0.6931 - val_accuracy: 0.3810\n",
            "Fold 2/5\n"
          ]
        },
        {
          "output_type": "stream",
          "name": "stderr",
          "text": [
            "All PyTorch model weights were used when initializing TFAlbertForSequenceClassification.\n",
            "\n",
            "Some weights or buffers of the TF 2.0 model TFAlbertForSequenceClassification were not initialized from the PyTorch model and are newly initialized: ['classifier.weight', 'classifier.bias']\n",
            "You should probably TRAIN this model on a down-stream task to be able to use it for predictions and inference.\n"
          ]
        },
        {
          "output_type": "stream",
          "name": "stdout",
          "text": [
            "Epoch 1/5\n",
            "6/6 [==============================] - 52s 5s/step - loss: 3.9735 - accuracy: 0.5244 - val_loss: 0.6931 - val_accuracy: 0.4762\n",
            "Epoch 2/5\n",
            "6/6 [==============================] - 25s 4s/step - loss: 0.6931 - accuracy: 0.5000 - val_loss: 0.6931 - val_accuracy: 0.4762\n",
            "Epoch 3/5\n",
            "6/6 [==============================] - 25s 4s/step - loss: 0.6931 - accuracy: 0.5000 - val_loss: 0.6931 - val_accuracy: 0.4762\n",
            "Epoch 4/5\n",
            "6/6 [==============================] - 24s 4s/step - loss: 0.6931 - accuracy: 0.5000 - val_loss: 0.6931 - val_accuracy: 0.4762\n",
            "Epoch 5/5\n",
            "6/6 [==============================] - 29s 5s/step - loss: 0.6931 - accuracy: 0.5000 - val_loss: 0.6931 - val_accuracy: 0.4762\n",
            "Fold 3/5\n"
          ]
        },
        {
          "output_type": "stream",
          "name": "stderr",
          "text": [
            "All PyTorch model weights were used when initializing TFAlbertForSequenceClassification.\n",
            "\n",
            "Some weights or buffers of the TF 2.0 model TFAlbertForSequenceClassification were not initialized from the PyTorch model and are newly initialized: ['classifier.weight', 'classifier.bias']\n",
            "You should probably TRAIN this model on a down-stream task to be able to use it for predictions and inference.\n"
          ]
        },
        {
          "output_type": "stream",
          "name": "stdout",
          "text": [
            "Epoch 1/5\n",
            "6/6 [==============================] - 51s 5s/step - loss: 2.6674 - accuracy: 0.5000 - val_loss: 0.6931 - val_accuracy: 0.7143\n",
            "Epoch 2/5\n",
            "6/6 [==============================] - 25s 4s/step - loss: 0.6931 - accuracy: 0.4390 - val_loss: 0.6931 - val_accuracy: 0.7143\n",
            "Epoch 3/5\n",
            "6/6 [==============================] - 26s 4s/step - loss: 0.6931 - accuracy: 0.4390 - val_loss: 0.6931 - val_accuracy: 0.7143\n",
            "Epoch 4/5\n",
            "6/6 [==============================] - 24s 4s/step - loss: 0.8232 - accuracy: 0.4390 - val_loss: 0.6931 - val_accuracy: 0.7143\n",
            "Epoch 5/5\n",
            "6/6 [==============================] - 25s 4s/step - loss: 0.6931 - accuracy: 0.5732 - val_loss: 0.6931 - val_accuracy: 0.2857\n",
            "Fold 4/5\n"
          ]
        },
        {
          "output_type": "stream",
          "name": "stderr",
          "text": [
            "All PyTorch model weights were used when initializing TFAlbertForSequenceClassification.\n",
            "\n",
            "Some weights or buffers of the TF 2.0 model TFAlbertForSequenceClassification were not initialized from the PyTorch model and are newly initialized: ['classifier.weight', 'classifier.bias']\n",
            "You should probably TRAIN this model on a down-stream task to be able to use it for predictions and inference.\n"
          ]
        },
        {
          "output_type": "stream",
          "name": "stdout",
          "text": [
            "Epoch 1/5\n",
            "6/6 [==============================] - 54s 5s/step - loss: 4.6479 - accuracy: 0.4699 - val_loss: 0.6931 - val_accuracy: 0.7500\n",
            "Epoch 2/5\n",
            "6/6 [==============================] - 24s 4s/step - loss: 0.8181 - accuracy: 0.4337 - val_loss: 0.6931 - val_accuracy: 0.7500\n",
            "Epoch 3/5\n",
            "6/6 [==============================] - 24s 4s/step - loss: 0.6931 - accuracy: 0.4217 - val_loss: 0.6931 - val_accuracy: 0.7500\n",
            "Epoch 4/5\n",
            "6/6 [==============================] - 25s 4s/step - loss: 0.6931 - accuracy: 0.4578 - val_loss: 0.6931 - val_accuracy: 0.7500\n",
            "Epoch 5/5\n",
            "6/6 [==============================] - 25s 4s/step - loss: 0.6931 - accuracy: 0.4458 - val_loss: 0.6931 - val_accuracy: 0.7500\n",
            "Fold 5/5\n"
          ]
        },
        {
          "output_type": "stream",
          "name": "stderr",
          "text": [
            "All PyTorch model weights were used when initializing TFAlbertForSequenceClassification.\n",
            "\n",
            "Some weights or buffers of the TF 2.0 model TFAlbertForSequenceClassification were not initialized from the PyTorch model and are newly initialized: ['classifier.weight', 'classifier.bias']\n",
            "You should probably TRAIN this model on a down-stream task to be able to use it for predictions and inference.\n"
          ]
        },
        {
          "output_type": "stream",
          "name": "stdout",
          "text": [
            "Epoch 1/5\n",
            "6/6 [==============================] - 53s 5s/step - loss: 1.9823 - accuracy: 0.5422 - val_loss: 0.6585 - val_accuracy: 0.4000\n",
            "Epoch 2/5\n",
            "6/6 [==============================] - 24s 4s/step - loss: 1.2540 - accuracy: 0.4940 - val_loss: 0.6931 - val_accuracy: 0.4000\n",
            "Epoch 3/5\n",
            "6/6 [==============================] - 26s 4s/step - loss: 0.6931 - accuracy: 0.5181 - val_loss: 0.6931 - val_accuracy: 0.4000\n",
            "Epoch 4/5\n",
            "6/6 [==============================] - 26s 4s/step - loss: 0.6931 - accuracy: 0.5181 - val_loss: 0.6931 - val_accuracy: 0.4000\n",
            "Epoch 5/5\n",
            "6/6 [==============================] - 26s 4s/step - loss: 0.6931 - accuracy: 0.5181 - val_loss: 0.6931 - val_accuracy: 0.4000\n",
            "Average Training Loss: [2.9036983  0.83031548 0.69314718 0.71915703 0.69314718]\n",
            "Average Training Accuracy: [0.50240963 0.48066413 0.48551279 0.49030268 0.50984426]\n",
            "Average Validation Loss: [0.68621572 0.69314718 0.69314718 0.69314718 0.69314718]\n",
            "Average Validation Accuracy: [0.58238096 0.53476191 0.54428572 0.54428572 0.45857143]\n"
          ]
        }
      ]
    },
    {
      "cell_type": "markdown",
      "source": [
        "## FUNCTIONS ĐỂ TEST ON REAL DATA (COMPLETELY NEW DATA)"
      ],
      "metadata": {
        "id": "MzxvtZzn9MLi"
      }
    },
    {
      "cell_type": "code",
      "source": [
        "#Hàm sài để test 1 sample data lẻ (1 transcript)\n",
        "def create_predictor(model, model_name, max_len):\n",
        "  tkzr = DistilBertTokenizer.from_pretrained(model_name)\n",
        "  def predict_proba(text):\n",
        "      x = [text]\n",
        "\n",
        "      encodings = construct_encodings(x, tkzr, max_len=max_len)\n",
        "      tfdataset = construct_tfdataset(encodings)\n",
        "      tfdataset = tfdataset.batch(1)\n",
        "\n",
        "      preds = model.predict(tfdataset).logits\n",
        "      preds = activations.softmax(tf.convert_to_tensor(preds)).numpy()\n",
        "      return preds[0][0]\n",
        "\n",
        "  return predict_proba"
      ],
      "metadata": {
        "id": "oq5mp9bExUjt"
      },
      "execution_count": null,
      "outputs": []
    },
    {
      "cell_type": "code",
      "source": [
        "#VÍ DỤ CÁCH SÀI\n",
        "\n",
        "clf = create_predictor(model, MODEL_NAME,20)\n",
        "proba = clf('''Hello\n",
        "''')\n",
        "if proba>0.5:\n",
        "  print(f'Model prediction : Alzheimer')\n",
        "  print(f'The percentage of Alzheimer is : {round(proba*100)}%')\n",
        "else:\n",
        "  print(\"Model prediction : Healthy\")\n",
        "  print(f'The percentage of healthy is : {round(100-proba*100)}%')\n"
      ],
      "metadata": {
        "id": "CoVxI5mW9N5b"
      },
      "execution_count": null,
      "outputs": []
    },
    {
      "cell_type": "code",
      "source": [
        "#Hàm sài để test 1 dataset luôn (nhiều transcript cùng lúc)\n",
        "#HÀM SẼ DOWNLOAD DATASET RESULT VỀ MÁY !\n",
        "\n",
        "def create_predictor(model, model_name, max_len):\n",
        "    tkzr = AlbertTokenizer.from_pretrained(model_name)\n",
        "\n",
        "    def predict_proba(text):\n",
        "        x = [text]\n",
        "\n",
        "        encodings = construct_encodings(x, tkzr, max_len=max_len)\n",
        "        tfdataset = construct_tfdataset(encodings)\n",
        "        tfdataset = tfdataset.batch(1)\n",
        "\n",
        "        preds = model.predict(tfdataset).logits\n",
        "        preds = activations.softmax(tf.convert_to_tensor(preds)).numpy()\n",
        "        return preds[0][0]\n",
        "\n",
        "    return predict_proba\n"
      ],
      "metadata": {
        "id": "frRg8eID9RX5"
      },
      "execution_count": null,
      "outputs": []
    },
    {
      "cell_type": "code",
      "source": [
        "#VÍ DỤ CÁCH SÀI\n",
        "\n",
        "# Load the new DataFrame\n",
        "new_df = pd.read_csv(\"./preprocessed_data2020.csv\")\n",
        "\n",
        "# Define the maximum sequence length\n",
        "max_len = 50\n",
        "\n",
        "# Create the predictor function\n",
        "predict_proba = create_predictor(model, \"albert-base-v2\", 50)\n",
        "\n",
        "# Apply the predictor function to each row of the new DataFrame\n",
        "new_df[\"Predictions\"] = new_df[\"Preprocessed_Content\"].apply(predict_proba)\n",
        "\n",
        "csv_filename = \"test_data2020(2).csv\"\n",
        "new_df.to_csv(csv_filename, index=False)\n",
        "\n",
        "from google.colab import files\n",
        "files.download(csv_filename)"
      ],
      "metadata": {
        "colab": {
          "base_uri": "https://localhost:8080/",
          "height": 894
        },
        "id": "POOpng0X9S8v",
        "outputId": "41eee1a8-c137-44ed-da49-b44678792fab"
      },
      "execution_count": null,
      "outputs": [
        {
          "output_type": "stream",
          "name": "stdout",
          "text": [
            "1/1 [==============================] - 5s 5s/step\n",
            "1/1 [==============================] - 5s 5s/step\n",
            "1/1 [==============================] - 0s 465ms/step\n",
            "1/1 [==============================] - 0s 438ms/step\n",
            "1/1 [==============================] - 0s 455ms/step\n",
            "1/1 [==============================] - 0s 455ms/step\n",
            "1/1 [==============================] - 0s 432ms/step\n",
            "1/1 [==============================] - 0s 290ms/step\n",
            "1/1 [==============================] - 0s 241ms/step\n",
            "1/1 [==============================] - 0s 261ms/step\n",
            "1/1 [==============================] - 0s 225ms/step\n",
            "1/1 [==============================] - 0s 265ms/step\n",
            "1/1 [==============================] - 0s 251ms/step\n",
            "1/1 [==============================] - 0s 270ms/step\n",
            "1/1 [==============================] - 0s 248ms/step\n",
            "1/1 [==============================] - 0s 248ms/step\n",
            "1/1 [==============================] - 0s 259ms/step\n",
            "1/1 [==============================] - 0s 279ms/step\n",
            "1/1 [==============================] - 0s 260ms/step\n",
            "1/1 [==============================] - 0s 256ms/step\n",
            "1/1 [==============================] - 0s 270ms/step\n",
            "1/1 [==============================] - 0s 273ms/step\n",
            "1/1 [==============================] - 0s 262ms/step\n",
            "1/1 [==============================] - 0s 275ms/step\n",
            "1/1 [==============================] - 0s 251ms/step\n",
            "1/1 [==============================] - 0s 262ms/step\n",
            "1/1 [==============================] - 0s 268ms/step\n",
            "1/1 [==============================] - 0s 257ms/step\n",
            "1/1 [==============================] - 0s 226ms/step\n",
            "1/1 [==============================] - 0s 258ms/step\n",
            "1/1 [==============================] - 0s 276ms/step\n",
            "1/1 [==============================] - 0s 264ms/step\n",
            "1/1 [==============================] - 0s 257ms/step\n",
            "1/1 [==============================] - 0s 258ms/step\n",
            "1/1 [==============================] - 0s 276ms/step\n",
            "1/1 [==============================] - 0s 278ms/step\n",
            "1/1 [==============================] - 0s 272ms/step\n",
            "1/1 [==============================] - 0s 388ms/step\n",
            "1/1 [==============================] - 0s 301ms/step\n",
            "1/1 [==============================] - 0s 430ms/step\n",
            "1/1 [==============================] - 1s 636ms/step\n",
            "1/1 [==============================] - 1s 602ms/step\n",
            "1/1 [==============================] - 1s 518ms/step\n",
            "1/1 [==============================] - 1s 575ms/step\n",
            "1/1 [==============================] - 1s 681ms/step\n",
            "1/1 [==============================] - 1s 574ms/step\n",
            "1/1 [==============================] - 1s 621ms/step\n",
            "1/1 [==============================] - 1s 545ms/step\n"
          ]
        },
        {
          "output_type": "display_data",
          "data": {
            "text/plain": [
              "<IPython.core.display.Javascript object>"
            ],
            "application/javascript": [
              "\n",
              "    async function download(id, filename, size) {\n",
              "      if (!google.colab.kernel.accessAllowed) {\n",
              "        return;\n",
              "      }\n",
              "      const div = document.createElement('div');\n",
              "      const label = document.createElement('label');\n",
              "      label.textContent = `Downloading \"${filename}\": `;\n",
              "      div.appendChild(label);\n",
              "      const progress = document.createElement('progress');\n",
              "      progress.max = size;\n",
              "      div.appendChild(progress);\n",
              "      document.body.appendChild(div);\n",
              "\n",
              "      const buffers = [];\n",
              "      let downloaded = 0;\n",
              "\n",
              "      const channel = await google.colab.kernel.comms.open(id);\n",
              "      // Send a message to notify the kernel that we're ready.\n",
              "      channel.send({})\n",
              "\n",
              "      for await (const message of channel.messages) {\n",
              "        // Send a message to notify the kernel that we're ready.\n",
              "        channel.send({})\n",
              "        if (message.buffers) {\n",
              "          for (const buffer of message.buffers) {\n",
              "            buffers.push(buffer);\n",
              "            downloaded += buffer.byteLength;\n",
              "            progress.value = downloaded;\n",
              "          }\n",
              "        }\n",
              "      }\n",
              "      const blob = new Blob(buffers, {type: 'application/binary'});\n",
              "      const a = document.createElement('a');\n",
              "      a.href = window.URL.createObjectURL(blob);\n",
              "      a.download = filename;\n",
              "      div.appendChild(a);\n",
              "      a.click();\n",
              "      div.remove();\n",
              "    }\n",
              "  "
            ]
          },
          "metadata": {}
        },
        {
          "output_type": "display_data",
          "data": {
            "text/plain": [
              "<IPython.core.display.Javascript object>"
            ],
            "application/javascript": [
              "download(\"download_ec0e6cb3-3257-4e5b-9cd0-539427c32af9\", \"test_data2020(2).csv\", 252449)"
            ]
          },
          "metadata": {}
        }
      ]
    }
  ]
}